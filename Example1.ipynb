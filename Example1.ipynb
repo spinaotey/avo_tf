{
 "cells": [
  {
   "cell_type": "code",
   "execution_count": 1,
   "metadata": {},
   "outputs": [],
   "source": [
    "import os\n",
    "from functools import partial\n",
    "\n",
    "os.environ['TF_CPP_MIN_LOG_LEVEL'] = '3'\n",
    "\n",
    "%matplotlib inline\n",
    "import tensorflow as tf\n",
    "import numpy as np\n",
    "import matplotlib.pyplot as plt\n",
    "\n",
    "import tensorflow.contrib.slim as slim\n",
    "\n",
    "from scipy.stats import poisson, norm"
   ]
  },
  {
   "cell_type": "markdown",
   "metadata": {},
   "source": [
    "We change define the leaky_relu with default parameter `alpha=0.1`"
   ]
  },
  {
   "cell_type": "code",
   "execution_count": 2,
   "metadata": {},
   "outputs": [],
   "source": [
    "leaky_relu = partial(tf.nn.leaky_relu,alpha=0.1)"
   ]
  },
  {
   "cell_type": "markdown",
   "metadata": {},
   "source": [
    "Define parameters of the model."
   ]
  },
  {
   "cell_type": "code",
   "execution_count": 3,
   "metadata": {},
   "outputs": [],
   "source": [
    "batch_size = 64\n",
    "learning_rate = 0.01\n",
    "lambda_gradient = 0.025 # Gradient penalty\n",
    "lambda_entropy = 5. # Entropy penalty\n",
    "obs_poisson_rate = 7. # Poisson rate of the observed data\n",
    "prop_initial_mu = np.log(5) # Initial mu of the proposal distribution \n",
    "prop_initial_log_sigma = 0. # Inintial log(sigma) of the proposal distribution\n",
    "beta1 = 0.5\n",
    "beta2 = 0.5\n",
    "critic_steps = 100\n",
    "count_steps = 300+1\n",
    "\n",
    "#For reproducibility \n",
    "tf.set_random_seed(2210)\n",
    "np.random.seed(2210)"
   ]
  },
  {
   "cell_type": "markdown",
   "metadata": {},
   "source": [
    "Generate observed samples and define simulator."
   ]
  },
  {
   "cell_type": "code",
   "execution_count": 4,
   "metadata": {},
   "outputs": [],
   "source": [
    "# Generate observed samples\n",
    "obs_samples = poisson.rvs(obs_poisson_rate,size=20000)\n",
    "\n",
    "# Define simulator\n",
    "def simulator(X):\n",
    "    return poisson.rvs(np.exp(X))"
   ]
  },
  {
   "cell_type": "markdown",
   "metadata": {},
   "source": [
    "Define AVO model."
   ]
  },
  {
   "cell_type": "code",
   "execution_count": 5,
   "metadata": {},
   "outputs": [],
   "source": [
    "batch_shape = (batch_size, 1)\n",
    "critic_shape = (batch_size, 1)\n",
    "\n",
    "# Placeholder for real distribution\n",
    "X_real = tf.placeholder(tf.float32,shape=batch_shape)\n",
    "\n",
    "# Define proposal parameters Psi\n",
    "with tf.variable_scope('proposal'):\n",
    "    mu = tf.get_variable('mu', shape=(), initializer=tf.constant_initializer(prop_initial_mu))\n",
    "    # We use logarithm of sigma since sigma >= 0 in order to stretch it over the real line\n",
    "    lg_sigma = tf.get_variable('lg_sigma', shape=(), initializer=tf.constant_initializer(prop_initial_log_sigma))\n",
    "\n",
    "# Define proposal distribution q\n",
    "prop_distribution = tf.contrib.distributions.Normal(loc=mu, scale=tf.exp(lg_sigma))\n",
    "sample_proposal = tf.stop_gradient(prop_distribution.sample(sample_shape=batch_shape))\n",
    "\n",
    "# Compute the log probability for the parameters \n",
    "log_prob_prop = prop_distribution.log_prob(sample_proposal)\n",
    "#Analytic differential entropy for the proposal distribution\n",
    "entropy_proposal = lg_sigma \n",
    "\n",
    "# Placeholder for simulated distribution\n",
    "X_sim = tf.placeholder(tf.float32,shape=batch_shape)\n",
    "\n",
    "# Define the critic\n",
    "def critic(x):\n",
    "    layer = slim.stack(x, slim.fully_connected, [10, 10], scope='shared', activation_fn=leaky_relu)\n",
    "    logits = slim.fully_connected(layer, 1, activation_fn=tf.identity, scope='logits')\n",
    "    return logits\n",
    "\n",
    "# Define interpolated data points for the Gradient Penalty Term\n",
    "eps = tf.random_uniform(critic_shape, minval=0., maxval=1.)\n",
    "X_interp = eps*X_real + (1.-eps)*X_sim\n",
    "\n",
    "# Compute critic for different inputs sharing the same variables of the NN:\n",
    "with tf.variable_scope('critic'):\n",
    "    critic_real = critic(X_real)\n",
    "    tf.get_variable_scope().reuse_variables()\n",
    "    critic_sim = critic(X_sim)\n",
    "    critic_interp = critic(X_interp)\n",
    "\n",
    "# Gradient penalty \n",
    "grad = tf.gradients(critic_interp, [X_interp])[0]\n",
    "gradient_penalty = lambda_gradient * tf.square(tf.norm(grad, 2,axis=1) - 1)\n",
    "\n",
    "# Define losses\n",
    "loss_critic = tf.reduce_mean(critic_sim - critic_real + gradient_penalty)\n",
    "wgan_loss = -tf.reduce_mean(critic_sim - critic_real) # Distance between distributions\n",
    "loss_prop = tf.reduce_mean(-tf.multiply(critic_sim, log_prob_prop) + lambda_entropy*entropy_proposal)\n",
    "\n",
    "# Define trainable variables\n",
    "prop_vars = [var for var in tf.trainable_variables() if var.name.startswith('proposal')]\n",
    "critic_vars = [var for var in tf.trainable_variables() if var.name.startswith('critic')]\n",
    "\n",
    "# Define optimizers\n",
    "critic_optimizer = tf.train.AdamOptimizer(learning_rate=learning_rate, name='critic', beta1=beta1, beta2=beta2)\n",
    "prop_optimizer = tf.train.AdamOptimizer(learning_rate=learning_rate, name='proposal', beta1=beta1, beta2=beta2)\n",
    "\n",
    "# Define training operations\n",
    "train_critic = critic_optimizer.minimize(loss_critic, var_list=critic_vars)\n",
    "train_proposal = prop_optimizer.minimize(loss_prop, var_list=prop_vars)\n",
    "\n",
    "# Define variables to reset for critic optimizer\n",
    "velocity_vars = [critic_optimizer.get_slot(var, 'v') for var in critic_vars]\n",
    "momentum_vars = [critic_optimizer.get_slot(var, 'm') for var in critic_vars]\n",
    "reset_vel_mom = tf.variables_initializer(velocity_vars + momentum_vars)\n",
    "\n",
    "#Reset beta power variables:\n",
    "reset_b1 = tf.assign(critic_optimizer._beta1_power,beta1)\n",
    "reset_b2 = tf.assign(critic_optimizer._beta2_power,beta2)\n",
    "reset_critic = [reset_b1,reset_b2,reset_vel_mom]"
   ]
  },
  {
   "cell_type": "markdown",
   "metadata": {},
   "source": [
    "Run AVO model to find the parameter distribution."
   ]
  },
  {
   "cell_type": "code",
   "execution_count": 6,
   "metadata": {},
   "outputs": [
    {
     "name": "stdout",
     "output_type": "stream",
     "text": [
      "Step 0: mu = 1.6094379425048828, sigma = 1.0\n",
      "Step 10: mu = 1.5152162313461304, sigma = 0.9115484952926636, em = 379.2828369140625\n",
      "Step 20: mu = 1.432969331741333, sigma = 0.8440946936607361, em = 405.9505615234375\n",
      "Step 30: mu = 1.3763275146484375, sigma = 0.779949963092804, em = 159.42254638671875\n",
      "Step 40: mu = 1.3389164209365845, sigma = 0.7291643619537354, em = 156.0047607421875\n",
      "Step 50: mu = 1.3503211736679077, sigma = 0.6878798604011536, em = 206.6845245361328\n",
      "Step 60: mu = 1.3744397163391113, sigma = 0.6478492021560669, em = 158.40573120117188\n",
      "Step 70: mu = 1.4582637548446655, sigma = 0.6089808940887451, em = 128.20233154296875\n",
      "Step 80: mu = 1.548680067062378, sigma = 0.5764986872673035, em = 82.05598449707031\n",
      "Step 90: mu = 1.5971940755844116, sigma = 0.5280801057815552, em = 88.33961486816406\n",
      "Step 100: mu = 1.6856207847595215, sigma = 0.4862003028392792, em = 45.129783630371094\n",
      "Step 110: mu = 1.729105830192566, sigma = 0.44777488708496094, em = 29.700485229492188\n",
      "Step 120: mu = 1.7808243036270142, sigma = 0.40938296914100647, em = 30.250181198120117\n",
      "Step 130: mu = 1.8245925903320312, sigma = 0.37456342577934265, em = 32.12519073486328\n",
      "Step 140: mu = 1.843012809753418, sigma = 0.34411922097206116, em = 22.43110466003418\n",
      "Step 150: mu = 1.8681858777999878, sigma = 0.31332534551620483, em = 22.752275466918945\n",
      "Step 160: mu = 1.8564478158950806, sigma = 0.2865511178970337, em = 10.756542205810547\n",
      "Step 170: mu = 1.8979617357254028, sigma = 0.26206591725349426, em = 3.731196880340576\n",
      "Step 180: mu = 1.9074091911315918, sigma = 0.24035301804542542, em = 3.3745219707489014\n",
      "Step 190: mu = 1.9146437644958496, sigma = 0.2197858691215515, em = 6.83779239654541\n",
      "Step 200: mu = 1.921811580657959, sigma = 0.2039039433002472, em = 7.026079177856445\n",
      "Step 210: mu = 1.9273103475570679, sigma = 0.18644289672374725, em = 6.463253498077393\n",
      "Step 220: mu = 1.913368582725525, sigma = 0.17014354467391968, em = 0.6284310817718506\n",
      "Step 230: mu = 1.9023332595825195, sigma = 0.15482275187969208, em = -0.4154541492462158\n",
      "Step 240: mu = 1.9115149974822998, sigma = 0.143963024020195, em = 0.8037474751472473\n",
      "Step 250: mu = 1.959047555923462, sigma = 0.13694655895233154, em = 1.8551819324493408\n",
      "Step 260: mu = 1.9315259456634521, sigma = 0.12491312623023987, em = 1.6382222175598145\n",
      "Step 270: mu = 1.926447868347168, sigma = 0.11352990567684174, em = 2.378537178039551\n",
      "Step 280: mu = 1.9353663921356201, sigma = 0.10629686713218689, em = 2.3840553760528564\n",
      "Step 290: mu = 1.9334543943405151, sigma = 0.09777078032493591, em = 0.48749810457229614\n",
      "Step 300: mu = 1.9252873659133911, sigma = 0.09149502217769623, em = 2.615446090698242\n"
     ]
    }
   ],
   "source": [
    "# Save losses\n",
    "wgan_losses = np.zeros(count_steps)\n",
    "\n",
    "config = tf.ConfigProto()\n",
    "config.gpu_options.allow_growth = True\n",
    "with tf.Session(config=config) as sess:\n",
    "    sess.run(tf.global_variables_initializer())\n",
    "    # Output the current values\n",
    "    mu_val, lg_sigma_val = sess.run([mu, lg_sigma])\n",
    "    print('Step 0: mu = {}, sigma = {}'.format(mu_val, np.exp(lg_sigma_val)))\n",
    "\n",
    "    for epoch in range(count_steps):\n",
    "        # Reset critic optimizer parameters at each epoch\n",
    "        sess.run(reset_critic)\n",
    "\n",
    "        # Optimize critic\n",
    "        for idx in range(critic_steps):\n",
    "            x_real = np.random.choice(obs_samples,[batch_size,1])\n",
    "            thetas = sess.run(sample_proposal)\n",
    "            x_sim = simulator(thetas)\n",
    "            _, this_loss = sess.run([train_critic, wgan_loss],feed_dict={X_real:x_real,X_sim:x_sim})\n",
    "        # Save loss after optimizing\n",
    "        wgan_losses[epoch] = this_loss\n",
    "\n",
    "        # Update the proposal\n",
    "        thetas = sess.run(sample_proposal)\n",
    "        x_sim = simulator(thetas)\n",
    "        _ = sess.run(train_proposal,feed_dict={X_sim:x_sim,sample_proposal:thetas})\n",
    "\n",
    "        # Output the current values\n",
    "        if ((epoch+1) % 10)  == 0:\n",
    "            mu_val, lg_sigma_val = sess.run([mu, lg_sigma])\n",
    "            print('Step {}: mu = {}, sigma = {}, em = {}'.format(epoch+1, mu_val, \n",
    "                                                                 np.exp(lg_sigma_val), this_loss))\n",
    "            \n",
    "    # Save final values of distribution\n",
    "    mu_val,lg_sigma_val = sess.run([mu, lg_sigma])"
   ]
  },
  {
   "cell_type": "markdown",
   "metadata": {},
   "source": [
    "Plot result:"
   ]
  },
  {
   "cell_type": "code",
   "execution_count": 7,
   "metadata": {
    "scrolled": true
   },
   "outputs": [
    {
     "data": {
      "text/plain": [
       "<matplotlib.legend.Legend at 0x7fd38c6c6320>"
      ]
     },
     "execution_count": 7,
     "metadata": {},
     "output_type": "execute_result"
    },
    {
     "data": {
      "image/png": "[encoded data removed]",
      "text/plain": [
       "<matplotlib.figure.Figure at 0x7fd396f94d30>"
      ]
     },
     "metadata": {},
     "output_type": "display_data"
    }
   ],
   "source": [
    "x = np.linspace(1,3,400)\n",
    "y = norm.pdf(x,mu_val,np.exp(lg_sigma_val))\n",
    "\n",
    "plt.plot(x,y,label=\"Proposal distribion\")\n",
    "plt.vlines(np.log(7),0,5, label=\"True value\")\n",
    "plt.legend()"
   ]
  },
  {
   "cell_type": "code",
   "execution_count": null,
   "metadata": {},
   "outputs": [],
   "source": []
  }
 ],
 "metadata": {
  "kernelspec": {
   "display_name": "Python 3",
   "language": "python",
   "name": "python3"
  },
  "language_info": {
   "codemirror_mode": {
    "name": "ipython",
    "version": 3
   },
   "file_extension": ".py",
   "mimetype": "text/x-python",
   "name": "python",
   "nbconvert_exporter": "python",
   "pygments_lexer": "ipython3",
   "version": "3.6.3"
  }
 },
 "nbformat": 4,
 "nbformat_minor": 2
}
