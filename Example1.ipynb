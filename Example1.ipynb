{
 "cells": [
  {
   "cell_type": "code",
   "execution_count": 1,
   "metadata": {
    "collapsed": true
   },
   "outputs": [],
   "source": [
    "import os\n",
    "from functools import partial\n",
    "\n",
    "os.environ['TF_CPP_MIN_LOG_LEVEL'] = '3'\n",
    "\n",
    "%matplotlib inline\n",
    "import tensorflow as tf\n",
    "import numpy as np\n",
    "import matplotlib.pyplot as plt\n",
    "\n",
    "from scipy.stats import poisson, norm"
   ]
  },
  {
   "cell_type": "markdown",
   "metadata": {},
   "source": [
    "Define parameters of the model."
   ]
  },
  {
   "cell_type": "code",
   "execution_count": 2,
   "metadata": {
    "collapsed": true
   },
   "outputs": [],
   "source": [
    "batch_size = 100\n",
    "learning_rate = 0.005\n",
    "lambda_lp = 10 # Gradient penalty\n",
    "lambda_entropy = 5. # Entropy penalty\n",
    "obs_poisson_rate = 7. # Poisson rate of the observed data\n",
    "n_observed = 20000 # Number of observed data\n",
    "prop_initial_mu = np.log(5) # Initial mu of the proposal distribution \n",
    "prop_initial_log_sigma = np.log(.3) # Inintial log(sigma) of the proposal distribution\n",
    "beta1 = 0.5\n",
    "beta2 = 0.5\n",
    "dragan_parameter_C = 0.5\n",
    "critic_steps_1 = 100\n",
    "critic_steps_2 = 50\n",
    "early_stopping = 50\n",
    "count_steps = 3000+1\n",
    "\n",
    "#For reproducibility \n",
    "tf.set_random_seed(2210)\n",
    "np.random.seed(2210)"
   ]
  },
  {
   "cell_type": "code",
   "execution_count": 3,
   "metadata": {
    "collapsed": true
   },
   "outputs": [],
   "source": [
    "def glorot_uniform(fan_in, fan_out, scale=0.1):\n",
    "    s = scale * np.sqrt(6. / (fan_in + fan_out))\n",
    "    return np.random.rand(fan_in, fan_out) * 2 * s - s"
   ]
  },
  {
   "cell_type": "markdown",
   "metadata": {},
   "source": [
    "Generate observed samples and define simulator."
   ]
  },
  {
   "cell_type": "code",
   "execution_count": 4,
   "metadata": {
    "collapsed": true
   },
   "outputs": [],
   "source": [
    "# Generate observed samples\n",
    "obs_samples = poisson.rvs(obs_poisson_rate,size=n_observed)\n",
    "\n",
    "# Define simulator\n",
    "def simulator(X,epsilon=1e-7):\n",
    "    return poisson.rvs(np.exp(X))+epsilon"
   ]
  },
  {
   "cell_type": "markdown",
   "metadata": {},
   "source": [
    "Define AVO model."
   ]
  },
  {
   "cell_type": "code",
   "execution_count": 5,
   "metadata": {
    "collapsed": true
   },
   "outputs": [],
   "source": [
    "batch_shape = (None, 1)\n",
    "critic_shape = (None, 1)\n",
    "\n",
    "# Placeholder for real distribution\n",
    "X_real = tf.placeholder(tf.float32,shape=batch_shape)\n",
    "\n",
    "# Placeholder for simulated distribution\n",
    "X_sim = tf.placeholder(tf.float32,shape=batch_shape)\n",
    "\n",
    "# Placeholder for proposal shape\n",
    "proposal_shape = tf.placeholder(tf.int32,shape=[2])\n",
    "\n",
    "# Define proposal parameters Psi\n",
    "with tf.variable_scope('proposal'):\n",
    "    mu = tf.get_variable('mu', shape=(), initializer=tf.constant_initializer(prop_initial_mu))\n",
    "    # We use logarithm of sigma since sigma >= 0 in order to stretch it over the real line\n",
    "    lg_sigma = tf.get_variable('lg_sigma', shape=(), initializer=tf.constant_initializer(prop_initial_log_sigma))\n",
    "\n",
    "# Define proposal distribution q\n",
    "prop_distribution = tf.contrib.distributions.Normal(loc=mu, scale=tf.exp(lg_sigma))\n",
    "sample_proposal = tf.stop_gradient(prop_distribution.sample(sample_shape=proposal_shape))\n",
    "\n",
    "# Compute the log probability for the parameters \n",
    "log_prob_prop = prop_distribution.log_prob(sample_proposal)\n",
    "#Analytic differential entropy for the proposal distribution\n",
    "entropy_proposal = lg_sigma \n",
    "\n",
    "\n",
    "\n",
    "# Define critic variables\n",
    "with tf.name_scope('critic'):\n",
    "    W0 = tf.Variable(glorot_uniform(1,10),dtype=tf.float32,name='W0')\n",
    "    W1 = tf.Variable(glorot_uniform(10,10),dtype=tf.float32,name='W1')\n",
    "    W2 = tf.Variable(glorot_uniform(10,1),dtype=tf.float32,name='W2')\n",
    "    b0 = tf.Variable(np.zeros([1,10]),dtype=tf.float32,name='b0')\n",
    "    b1 = tf.Variable(np.zeros([1,10]),dtype=tf.float32,name='b1')\n",
    "    b2 = tf.Variable(np.zeros([1,1]),dtype=tf.float32,name='b2')\n",
    "\n",
    "# Define the critic\n",
    "def critic(x):\n",
    "    h1 = tf.nn.leaky_relu(tf.matmul(x,W0)+b0,alpha=.1)\n",
    "    h2 = tf.nn.leaky_relu(tf.matmul(h1,W1)+b1,alpha=.1)\n",
    "    out = tf.matmul(h2,W2)+b2\n",
    "    return out\n",
    "\n",
    "# Define perturbed points for LP\n",
    "X_perturb = tf.concat([X_real,X_sim],axis=0)\n",
    "u = tf.random_uniform(shape=[tf.shape(X_perturb)[0], 1],minval=-1.,maxval=1.)\n",
    "_, batch_std = tf.nn.moments(tf.reshape(X_perturb, [-1]), axes=[0])\n",
    "delta = dragan_parameter_C * batch_std * u\n",
    "alpha = tf.random_uniform(shape=[tf.shape(X_perturb)[0], 1],minval=0.,maxval=1.)\n",
    "X_perturb += (1. - alpha) * delta\n",
    "\n",
    "# Compute critic for different inputs sharing the same variables of the NN:\n",
    "critic_real = critic(X_real)\n",
    "critic_sim = critic(X_sim)\n",
    "critic_perturb = critic(X_perturb)\n",
    "\n",
    "# LP penalty\n",
    "gradients = tf.gradients(critic_perturb, [X_perturb])[0]\n",
    "slopes = tf.sqrt(tf.reduce_sum(tf.square(gradients), axis=1))\n",
    "gradient_penalty = tf.reduce_mean((tf.maximum(0., slopes - 1)) ** 2)\n",
    "\n",
    "# Define losses\n",
    "loss_critic = tf.reduce_mean(critic_sim - critic_real)+lambda_lp*gradient_penalty\n",
    "em = -tf.reduce_mean(critic_sim - critic_real) # Distance between distributions\n",
    "loss_prop = tf.reduce_mean(-tf.multiply(critic_sim, log_prob_prop) + lambda_entropy*entropy_proposal)\n",
    "\n",
    "# Define trainable variables\n",
    "prop_vars = [var for var in tf.trainable_variables() if var.name.startswith('proposal')]\n",
    "critic_vars = [var for var in tf.trainable_variables() if var.name.startswith('critic')]\n",
    "\n",
    "# Define optimizers\n",
    "critic_optimizer = tf.train.AdamOptimizer(learning_rate=learning_rate, name='critic', beta1=beta1, beta2=beta2)\n",
    "prop_optimizer = tf.train.AdamOptimizer(learning_rate=learning_rate, name='proposal', beta1=beta1, beta2=beta2)\n",
    "\n",
    "# Define training operations\n",
    "train_critic = critic_optimizer.minimize(loss_critic, var_list=critic_vars)\n",
    "train_proposal = prop_optimizer.minimize(loss_prop, var_list=prop_vars)\n",
    "\n",
    "# Define variables to reset for critic optimizer\n",
    "velocity_vars = [critic_optimizer.get_slot(var, 'v') for var in critic_vars]\n",
    "momentum_vars = [critic_optimizer.get_slot(var, 'm') for var in critic_vars]\n",
    "reset_vel_mom = tf.variables_initializer(velocity_vars + momentum_vars)\n",
    "\n",
    "#Reset beta power variables:\n",
    "reset_b1 = tf.assign(critic_optimizer._beta1_power,beta1)\n",
    "reset_b2 = tf.assign(critic_optimizer._beta2_power,beta2)\n",
    "reset_critic = [reset_b1,reset_b2,reset_vel_mom]\n",
    "\n",
    "#Saver\n",
    "saver = tf.train.Saver()"
   ]
  },
  {
   "cell_type": "markdown",
   "metadata": {},
   "source": [
    "Run AVO model to find the parameter distribution."
   ]
  },
  {
   "cell_type": "code",
   "execution_count": 6,
   "metadata": {},
   "outputs": [
    {
     "name": "stdout",
     "output_type": "stream",
     "text": [
      "Step 0: mu = 1.6094379425048828, sigma = 0.29999998211860657\n",
      "Step 10: mu = 1.6544204950332642, sigma = 0.2868002653121948, em = 1.68904709815979\n",
      "Step 20: mu = 1.7043917179107666, sigma = 0.2728158235549927, em = 1.3643184900283813\n",
      "Step 30: mu = 1.7543681859970093, sigma = 0.25951188802719116, em = 1.018436312675476\n",
      "Step 40: mu = 1.8043550252914429, sigma = 0.2468564659357071, em = 0.7929321527481079\n",
      "Step 50: mu = 1.8542908430099487, sigma = 0.23481911420822144, em = 0.5418020486831665\n",
      "Step 60: mu = 1.9034109115600586, sigma = 0.22336922585964203, em = 0.35832712054252625\n",
      "Step 70: mu = 1.9165959358215332, sigma = 0.2124757468700409, em = 0.3242158591747284\n",
      "Step 80: mu = 1.927213191986084, sigma = 0.20211336016654968, em = 0.2896948754787445\n",
      "Step 90: mu = 1.9290213584899902, sigma = 0.19225631654262543, em = 0.2720303237438202\n",
      "Step 100: mu = 1.9268558025360107, sigma = 0.18288010358810425, em = 0.24158398807048798\n",
      "Step 110: mu = 1.9350212812423706, sigma = 0.17396102845668793, em = 0.20940929651260376\n",
      "Step 120: mu = 1.9312663078308105, sigma = 0.16547700762748718, em = 0.18982088565826416\n",
      "Step 130: mu = 1.9315494298934937, sigma = 0.1574067622423172, em = 0.1782425343990326\n",
      "Step 140: mu = 1.9292997121810913, sigma = 0.14973005652427673, em = 0.16067364811897278\n",
      "Step 150: mu = 1.9392586946487427, sigma = 0.14242808520793915, em = 0.16141168773174286\n",
      "Step 160: mu = 1.941240668296814, sigma = 0.13548214733600616, em = 0.13506586849689484\n",
      "Step 170: mu = 1.9383249282836914, sigma = 0.1288749724626541, em = 0.12862528860569\n",
      "Step 180: mu = 1.9430702924728394, sigma = 0.12259002774953842, em = 0.09603068977594376\n",
      "Step 190: mu = 1.9400187730789185, sigma = 0.11661146581172943, em = 0.12317091971635818\n",
      "Step 200: mu = 1.9417325258255005, sigma = 0.11092445254325867, em = 0.10435207188129425\n",
      "Step 210: mu = 1.9404313564300537, sigma = 0.105514757335186, em = 0.09168246388435364\n",
      "Step 220: mu = 1.9407193660736084, sigma = 0.10036886483430862, em = 0.07806310802698135\n",
      "Step 230: mu = 1.9462121725082397, sigma = 0.09547393769025803, em = 0.09297653287649155\n",
      "Step 240: mu = 1.9396451711654663, sigma = 0.09081772714853287, em = 0.08190599083900452\n",
      "Step 250: mu = 1.9332008361816406, sigma = 0.08638862520456314, em = 0.07152938097715378\n",
      "Step 260: mu = 1.9445849657058716, sigma = 0.08217552304267883, em = 0.05734841898083687\n",
      "Step 270: mu = 1.9438846111297607, sigma = 0.0781678706407547, em = 0.04734823480248451\n",
      "Step 280: mu = 1.94130539894104, sigma = 0.07435566931962967, em = 0.06393349170684814\n",
      "Step 290: mu = 1.9425081014633179, sigma = 0.07072938978672028, em = 0.036362603306770325\n",
      "Step 300: mu = 1.9419670104980469, sigma = 0.06727999448776245, em = 0.04272693395614624\n",
      "Step 310: mu = 1.9458582401275635, sigma = 0.06399985402822495, em = 0.01948130875825882\n",
      "Step 320: mu = 1.9405754804611206, sigma = 0.06087895855307579, em = 0.04876573011279106\n",
      "Step 330: mu = 1.9428954124450684, sigma = 0.05790995433926582, em = 0.04300188273191452\n",
      "Step 340: mu = 1.9431601762771606, sigma = 0.05508572235703468, em = 0.03621244803071022\n",
      "Step 350: mu = 1.9418425559997559, sigma = 0.052399374544620514, em = 0.02674064412713051\n",
      "Step 360: mu = 1.9467930793762207, sigma = 0.04984445869922638, em = 0.04396773502230644\n",
      "Step 370: mu = 1.9409769773483276, sigma = 0.047413911670446396, em = 0.03548230603337288\n",
      "Step 380: mu = 1.9462922811508179, sigma = 0.045101821422576904, em = 0.04055941477417946\n",
      "Step 390: mu = 1.9460890293121338, sigma = 0.04290253296494484, em = 0.03005865402519703\n",
      "Step 400: mu = 1.950721025466919, sigma = 0.04081082344055176, em = 0.024950208142399788\n",
      "Step 410: mu = 1.9420137405395508, sigma = 0.038820911198854446, em = 0.024327922612428665\n",
      "Step 420: mu = 1.946262240409851, sigma = 0.03692791983485222, em = 0.018472125753760338\n",
      "Step 430: mu = 1.940935730934143, sigma = 0.03512701019644737, em = 0.011479075998067856\n",
      "Step 440: mu = 1.9423364400863647, sigma = 0.03341406211256981, em = 0.014201591722667217\n",
      "Step 450: mu = 1.9489682912826538, sigma = 0.031784530729055405, em = 0.009420118294656277\n",
      "Step 460: mu = 1.9492433071136475, sigma = 0.030234700068831444, em = 0.03284062445163727\n",
      "Step 470: mu = 1.944205403327942, sigma = 0.028760377317667007, em = 0.00962995458394289\n",
      "Step 480: mu = 1.946291208267212, sigma = 0.027357811108231544, em = 0.01681916043162346\n",
      "Step 490: mu = 1.9404710531234741, sigma = 0.02602369897067547, em = 0.030444055795669556\n",
      "Step 500: mu = 1.9452074766159058, sigma = 0.02475467324256897, em = 0.014197096228599548\n",
      "Step 510: mu = 1.9430313110351562, sigma = 0.02354765124619007, em = 0.0034961916971951723\n"
     ]
    }
   ],
   "source": [
    "#Early Stopping parameters\n",
    "early_stopping_counter = 0\n",
    "best_em = np.Inf\n",
    "\n",
    "# Save losses\n",
    "em_v = np.zeros(count_steps)\n",
    "loss_d = np.zeros(count_steps)\n",
    "sd_v = np.zeros(count_steps)\n",
    "sd_temp = np.zeros(critic_steps_2)\n",
    "\n",
    "config = tf.ConfigProto()\n",
    "config.gpu_options.allow_growth = True\n",
    "with tf.Session(config=config) as sess:\n",
    "    sess.run(tf.global_variables_initializer())\n",
    "    # Output the current values\n",
    "    mu_val, lg_sigma_val = sess.run([mu, lg_sigma])\n",
    "    print('Step 0: mu = {}, sigma = {}'.format(mu_val, np.exp(lg_sigma_val)))\n",
    "\n",
    "    for epoch in range(count_steps):\n",
    "        # Reset critic optimizer parameters at each epoch\n",
    "        sess.run(reset_critic)\n",
    "\n",
    "        # Optimize critic\n",
    "        #Small batches\n",
    "        for idx in range(critic_steps_1):\n",
    "            x_real = np.random.choice(obs_samples,[batch_size,1])\n",
    "            thetas = sess.run(sample_proposal,feed_dict={proposal_shape:[batch_size,1]})\n",
    "            x_sim = simulator(thetas)\n",
    "            _, this_em = sess.run([train_critic, em],feed_dict={X_real:x_real,X_sim:x_sim})\n",
    "        #Large batches\n",
    "        x_real = obs_samples.reshape([-1,1])\n",
    "        thetas = sess.run(sample_proposal,feed_dict={proposal_shape:[n_observed,1]})\n",
    "        x_sim = simulator(thetas)\n",
    "        for idx in range(critic_steps_2):\n",
    "            _, this_em, this_loss_d = sess.run([train_critic, em,loss_critic],\n",
    "                                               feed_dict={X_real:x_real,X_sim:x_sim})\n",
    "            sd_temp[idx] = this_em\n",
    "        sd_v[epoch] = np.std(sd_temp[-10:])\n",
    "        # Save loss after optimizing\n",
    "        em_v[epoch] = this_em\n",
    "        loss_d[epoch] = this_loss_d\n",
    "\n",
    "        # Output the current values\n",
    "        if ((epoch+1) % 10)  == 0:\n",
    "            mu_val, lg_sigma_val = sess.run([mu, lg_sigma])\n",
    "            print('Step {}: mu = {}, sigma = {}, em = {}'.format(epoch+1, mu_val, \n",
    "                                                                 np.exp(lg_sigma_val), this_em))\n",
    "        # Update the proposal\n",
    "        _ = sess.run(train_proposal,feed_dict={X_sim:x_sim,sample_proposal:thetas})\n",
    "        \n",
    "        #Check for early stopping\n",
    "        if this_em < best_em:\n",
    "            early_stopping_counter = 0\n",
    "            best_em = this_em\n",
    "            saver.save(sess,\"best_model/best_avo_model.ckpt\")\n",
    "            # Save final values of distribution\n",
    "            mu_val_best,lg_sigma_val_best = sess.run([mu, lg_sigma])\n",
    "        else:\n",
    "            early_stopping_counter = early_stopping_counter + 1\n",
    "            if early_stopping_counter == early_stopping:\n",
    "                break"
   ]
  },
  {
   "cell_type": "code",
   "execution_count": 7,
   "metadata": {},
   "outputs": [
    {
     "data": {
      "text/plain": [
       "1.9492319"
      ]
     },
     "execution_count": 7,
     "metadata": {},
     "output_type": "execute_result"
    }
   ],
   "source": [
    "mu_val_best"
   ]
  },
  {
   "cell_type": "code",
   "execution_count": 8,
   "metadata": {},
   "outputs": [
    {
     "data": {
      "text/plain": [
       "0.029488411"
      ]
     },
     "execution_count": 8,
     "metadata": {},
     "output_type": "execute_result"
    }
   ],
   "source": [
    "np.exp(lg_sigma_val_best)"
   ]
  },
  {
   "cell_type": "code",
   "execution_count": 9,
   "metadata": {},
   "outputs": [
    {
     "data": {
      "text/plain": [
       "7.2334805"
      ]
     },
     "execution_count": 9,
     "metadata": {},
     "output_type": "execute_result"
    }
   ],
   "source": [
    "np.exp(mu_val_best+np.exp(lg_sigma_val_best))"
   ]
  },
  {
   "cell_type": "code",
   "execution_count": 10,
   "metadata": {},
   "outputs": [
    {
     "data": {
      "text/plain": [
       "6.8192086"
      ]
     },
     "execution_count": 10,
     "metadata": {},
     "output_type": "execute_result"
    }
   ],
   "source": [
    "np.exp(mu_val_best-np.exp(lg_sigma_val_best))"
   ]
  },
  {
   "cell_type": "code",
   "execution_count": 11,
   "metadata": {},
   "outputs": [
    {
     "data": {
      "text/plain": [
       "6.979877"
      ]
     },
     "execution_count": 11,
     "metadata": {},
     "output_type": "execute_result"
    }
   ],
   "source": [
    "np.exp(mu_val)"
   ]
  },
  {
   "cell_type": "markdown",
   "metadata": {},
   "source": [
    "Plot result:"
   ]
  },
  {
   "cell_type": "code",
   "execution_count": 12,
   "metadata": {
    "scrolled": false
   },
   "outputs": [
    {
     "data": {
      "text/plain": [
       "<matplotlib.legend.Legend at 0x7f27ac0a15f8>"
      ]
     },
     "execution_count": 12,
     "metadata": {},
     "output_type": "execute_result"
    },
    {
     "data": {
      "image/png": "[encoded data removed]",
      "text/plain": [
       "<matplotlib.figure.Figure at 0x7f27ae249da0>"
      ]
     },
     "metadata": {},
     "output_type": "display_data"
    }
   ],
   "source": [
    "x = np.linspace(1,3,400)\n",
    "y = norm.pdf(x,mu_val_best,np.exp(lg_sigma_val_best))\n",
    "\n",
    "plt.plot(x,y,label=\"Proposal distribion log($\\lambda$)\")\n",
    "plt.vlines(np.log(7),0,y.max(), label=\"True value\")\n",
    "plt.legend()"
   ]
  },
  {
   "cell_type": "code",
   "execution_count": 13,
   "metadata": {},
   "outputs": [
    {
     "data": {
      "text/plain": [
       "<matplotlib.legend.Legend at 0x7f27a00538d0>"
      ]
     },
     "execution_count": 13,
     "metadata": {},
     "output_type": "execute_result"
    },
    {
     "data": {
      "image/png": "[encoded data removed]",
      "text/plain": [
       "<matplotlib.figure.Figure at 0x7f27ac046518>"
      ]
     },
     "metadata": {},
     "output_type": "display_data"
    }
   ],
   "source": [
    "x = np.linspace(5,9,400)\n",
    "y = norm.pdf(np.log(x),mu_val_best,np.exp(lg_sigma_val_best))\n",
    "\n",
    "plt.plot(x,y,label=\"Proposal distribion $\\lambda$\")\n",
    "plt.vlines(7,0,y.max(), label=\"True value\")\n",
    "plt.legend()"
   ]
  },
  {
   "cell_type": "code",
   "execution_count": 14,
   "metadata": {},
   "outputs": [
    {
     "data": {
      "text/plain": [
       "[<matplotlib.lines.Line2D at 0x7f27980ae2e8>]"
      ]
     },
     "execution_count": 14,
     "metadata": {},
     "output_type": "execute_result"
    },
    {
     "data": {
      "image/png": "[encoded data removed]",
      "text/plain": [
       "<matplotlib.figure.Figure at 0x7f27ac024c88>"
      ]
     },
     "metadata": {},
     "output_type": "display_data"
    }
   ],
   "source": [
    "plt.plot(em_v[:epoch-50])"
   ]
  },
  {
   "cell_type": "code",
   "execution_count": 15,
   "metadata": {},
   "outputs": [
    {
     "data": {
      "text/plain": [
       "[<matplotlib.lines.Line2D at 0x7f27901d1ef0>]"
      ]
     },
     "execution_count": 15,
     "metadata": {},
     "output_type": "execute_result"
    },
    {
     "data": {
      "image/png": "[encoded data removed]",
      "text/plain": [
       "<matplotlib.figure.Figure at 0x7f2798046588>"
      ]
     },
     "metadata": {},
     "output_type": "display_data"
    }
   ],
   "source": [
    "plt.plot(loss_d[:epoch-50])"
   ]
  },
  {
   "cell_type": "code",
   "execution_count": 16,
   "metadata": {},
   "outputs": [
    {
     "data": {
      "text/plain": [
       "[<matplotlib.lines.Line2D at 0x7f279013e278>]"
      ]
     },
     "execution_count": 16,
     "metadata": {},
     "output_type": "execute_result"
    },
    {
     "data": {
      "image/png": "[encoded data removed]",
      "text/plain": [
       "<matplotlib.figure.Figure at 0x7f27901f0eb8>"
      ]
     },
     "metadata": {},
     "output_type": "display_data"
    }
   ],
   "source": [
    "plt.plot(sd_v[:epoch-50])"
   ]
  },
  {
   "cell_type": "code",
   "execution_count": null,
   "metadata": {
    "collapsed": true
   },
   "outputs": [],
   "source": []
  }
 ],
 "metadata": {
  "kernelspec": {
   "display_name": "Python 3",
   "language": "python",
   "name": "python3"
  },
  "language_info": {
   "codemirror_mode": {
    "name": "ipython",
    "version": 3
   },
   "file_extension": ".py",
   "mimetype": "text/x-python",
   "name": "python",
   "nbconvert_exporter": "python",
   "pygments_lexer": "ipython3",
   "version": "3.6.3"
  }
 },
 "nbformat": 4,
 "nbformat_minor": 2
}
