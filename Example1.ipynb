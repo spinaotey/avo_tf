{
 "cells": [
  {
   "cell_type": "code",
   "execution_count": 1,
   "metadata": {},
   "outputs": [],
   "source": [
    "import os\n",
    "from functools import partial\n",
    "\n",
    "os.environ['TF_CPP_MIN_LOG_LEVEL'] = '3'\n",
    "\n",
    "%matplotlib inline\n",
    "import tensorflow as tf\n",
    "import numpy as np\n",
    "import matplotlib.pyplot as plt\n",
    "\n",
    "from scipy.stats import poisson, norm"
   ]
  },
  {
   "cell_type": "markdown",
   "metadata": {},
   "source": [
    "Define parameters of the model."
   ]
  },
  {
   "cell_type": "code",
   "execution_count": 2,
   "metadata": {},
   "outputs": [],
   "source": [
    "batch_size = 64\n",
    "learning_rate = 0.01\n",
    "lambda_gradient = 0.05 # Gradient penalty\n",
    "lambda_entropy = 5. # Entropy penalty\n",
    "obs_poisson_rate = 7. # Poisson rate of the observed data\n",
    "prop_initial_mu = np.log(5) # Initial mu of the proposal distribution \n",
    "prop_initial_log_sigma = np.log(.3) # Inintial log(sigma) of the proposal distribution\n",
    "beta1 = 0.5\n",
    "beta2 = 0.5\n",
    "critic_steps = 100\n",
    "count_steps = 300+1\n",
    "\n",
    "#For reproducibility \n",
    "tf.set_random_seed(2210)\n",
    "np.random.seed(2210)"
   ]
  },
  {
   "cell_type": "code",
   "execution_count": 3,
   "metadata": {},
   "outputs": [],
   "source": [
    "def glorot_uniform(fan_in, fan_out, scale=0.1):\n",
    "    s = scale * np.sqrt(6. / (fan_in + fan_out))\n",
    "    return np.random.rand(fan_in, fan_out) * 2 * s - s"
   ]
  },
  {
   "cell_type": "markdown",
   "metadata": {},
   "source": [
    "Generate observed samples and define simulator."
   ]
  },
  {
   "cell_type": "code",
   "execution_count": 4,
   "metadata": {},
   "outputs": [],
   "source": [
    "# Generate observed samples\n",
    "obs_samples = poisson.rvs(obs_poisson_rate,size=20000)\n",
    "\n",
    "# Define simulator\n",
    "def simulator(X,epsilon=1e-7):\n",
    "    return poisson.rvs(np.exp(X))+epsilon"
   ]
  },
  {
   "cell_type": "markdown",
   "metadata": {},
   "source": [
    "Define AVO model."
   ]
  },
  {
   "cell_type": "code",
   "execution_count": 5,
   "metadata": {},
   "outputs": [],
   "source": [
    "batch_shape = (batch_size, 1)\n",
    "critic_shape = (batch_size, 1)\n",
    "\n",
    "# Placeholder for real distribution\n",
    "X_real = tf.placeholder(tf.float32,shape=batch_shape)\n",
    "\n",
    "# Define proposal parameters Psi\n",
    "with tf.variable_scope('proposal'):\n",
    "    mu = tf.get_variable('mu', shape=(), initializer=tf.constant_initializer(prop_initial_mu))\n",
    "    # We use logarithm of sigma since sigma >= 0 in order to stretch it over the real line\n",
    "    lg_sigma = tf.get_variable('lg_sigma', shape=(), initializer=tf.constant_initializer(prop_initial_log_sigma))\n",
    "\n",
    "# Define proposal distribution q\n",
    "prop_distribution = tf.contrib.distributions.Normal(loc=mu, scale=tf.exp(lg_sigma))\n",
    "sample_proposal = tf.stop_gradient(prop_distribution.sample(sample_shape=batch_shape))\n",
    "\n",
    "# Compute the log probability for the parameters \n",
    "log_prob_prop = prop_distribution.log_prob(sample_proposal)\n",
    "#Analytic differential entropy for the proposal distribution\n",
    "entropy_proposal = lg_sigma \n",
    "\n",
    "# Placeholder for simulated distribution\n",
    "X_sim = tf.placeholder(tf.float32,shape=batch_shape)\n",
    "\n",
    "# Define critic variables\n",
    "with tf.name_scope('critic'):\n",
    "    W0 = tf.Variable(glorot_uniform(1,10),dtype=tf.float32,name='W0')\n",
    "    W1 = tf.Variable(glorot_uniform(10,10),dtype=tf.float32,name='W1')\n",
    "    W2 = tf.Variable(glorot_uniform(10,1),dtype=tf.float32,name='W2')\n",
    "    b0 = tf.Variable(np.zeros([1,10]),dtype=tf.float32,name='b0')\n",
    "    b1 = tf.Variable(np.zeros([1,10]),dtype=tf.float32,name='b1')\n",
    "    b2 = tf.Variable(np.zeros([1,1]),dtype=tf.float32,name='b2')\n",
    "\n",
    "# Define the critic\n",
    "def critic(x):\n",
    "    h1 = tf.nn.leaky_relu(tf.matmul(x,W0)+b0,alpha=.1)\n",
    "    h2 = tf.nn.leaky_relu(tf.matmul(h1,W1)+b1,alpha=.1)\n",
    "    out = tf.matmul(h2,W2)+b2\n",
    "    return out\n",
    "\n",
    "# Define interpolated data points for the Gradient Penalty Term\n",
    "eps = tf.random_uniform(critic_shape, minval=0., maxval=1.)\n",
    "X_interp = eps*X_real + (1.-eps)*X_sim\n",
    "\n",
    "# Compute critic for different inputs sharing the same variables of the NN:\n",
    "critic_real = critic(X_real)\n",
    "critic_sim = critic(X_sim)\n",
    "critic_interp = critic(X_interp)\n",
    "\n",
    "# Gradient penalty \n",
    "grad = tf.gradients(critic_interp, [X_interp])[0]\n",
    "gradient_penalty = lambda_gradient * tf.square(tf.norm(grad, 2,axis=1) - 1)\n",
    "\n",
    "# Define losses\n",
    "loss_critic = tf.reduce_mean(critic_sim - critic_real + gradient_penalty)\n",
    "wgan_loss = -tf.reduce_mean(critic_sim - critic_real) # Distance between distributions\n",
    "loss_prop = tf.reduce_mean(-tf.multiply(critic_sim, log_prob_prop) + lambda_entropy*entropy_proposal)\n",
    "\n",
    "# Define trainable variables\n",
    "prop_vars = [var for var in tf.trainable_variables() if var.name.startswith('proposal')]\n",
    "critic_vars = [var for var in tf.trainable_variables() if var.name.startswith('critic')]\n",
    "\n",
    "# Define optimizers\n",
    "critic_optimizer = tf.train.AdamOptimizer(learning_rate=learning_rate, name='critic', beta1=beta1, beta2=beta2)\n",
    "prop_optimizer = tf.train.AdamOptimizer(learning_rate=learning_rate, name='proposal', beta1=beta1, beta2=beta2)\n",
    "\n",
    "# Define training operations\n",
    "train_critic = critic_optimizer.minimize(loss_critic, var_list=critic_vars)\n",
    "train_proposal = prop_optimizer.minimize(loss_prop, var_list=prop_vars)\n",
    "\n",
    "# Define variables to reset for critic optimizer\n",
    "velocity_vars = [critic_optimizer.get_slot(var, 'v') for var in critic_vars]\n",
    "momentum_vars = [critic_optimizer.get_slot(var, 'm') for var in critic_vars]\n",
    "reset_vel_mom = tf.variables_initializer(velocity_vars + momentum_vars)\n",
    "\n",
    "#Reset beta power variables:\n",
    "reset_b1 = tf.assign(critic_optimizer._beta1_power,beta1)\n",
    "reset_b2 = tf.assign(critic_optimizer._beta2_power,beta2)\n",
    "reset_critic = [reset_b1,reset_b2,reset_vel_mom]"
   ]
  },
  {
   "cell_type": "markdown",
   "metadata": {},
   "source": [
    "Run AVO model to find the parameter distribution."
   ]
  },
  {
   "cell_type": "code",
   "execution_count": 6,
   "metadata": {},
   "outputs": [
    {
     "name": "stdout",
     "output_type": "stream",
     "text": [
      "Step 0: mu = 1.6094379425048828, sigma = 0.29999998211860657\n",
      "Step 10: mu = 1.7042953968048096, sigma = 0.3164593577384949, em = 14.647161483764648\n",
      "Step 20: mu = 1.7974042892456055, sigma = 0.3236628770828247, em = 7.880945205688477\n",
      "Step 30: mu = 1.8886024951934814, sigma = 0.30963224172592163, em = 5.241318702697754\n",
      "Step 40: mu = 1.829382300376892, sigma = 0.3066326379776001, em = 7.673726558685303\n",
      "Step 50: mu = 1.8222122192382812, sigma = 0.2972683310508728, em = 3.103508472442627\n",
      "Step 60: mu = 1.863394856452942, sigma = 0.2844122052192688, em = 5.316098213195801\n",
      "Step 70: mu = 1.88843834400177, sigma = 0.2713404893875122, em = 0.23108750581741333\n",
      "Step 80: mu = 1.8800415992736816, sigma = 0.2678830325603485, em = 4.117608547210693\n",
      "Step 90: mu = 1.876057744026184, sigma = 0.24740390479564667, em = 4.296875\n",
      "Step 100: mu = 1.9201719760894775, sigma = 0.22950085997581482, em = 4.280480861663818\n",
      "Step 110: mu = 1.9085758924484253, sigma = 0.21281294524669647, em = 4.38154411315918\n",
      "Step 120: mu = 1.958541989326477, sigma = 0.19409029185771942, em = 3.8275742530822754\n",
      "Step 130: mu = 1.9312511682510376, sigma = 0.17752890288829803, em = -0.50929856300354\n",
      "Step 140: mu = 1.9340718984603882, sigma = 0.16270969808101654, em = 1.020413875579834\n",
      "Step 150: mu = 1.9278225898742676, sigma = 0.1494162380695343, em = 0.30271846055984497\n",
      "Step 160: mu = 1.9410486221313477, sigma = 0.13556727766990662, em = 1.1699888706207275\n",
      "Step 170: mu = 1.9406613111495972, sigma = 0.12352874130010605, em = -0.9532029628753662\n",
      "Step 180: mu = 1.952217936515808, sigma = 0.11240053176879883, em = -0.1513444185256958\n",
      "Step 190: mu = 1.925631046295166, sigma = 0.10233921557664871, em = -0.29564210772514343\n",
      "Step 200: mu = 1.9377437829971313, sigma = 0.09421975910663605, em = 0.09254531562328339\n",
      "Step 210: mu = 1.924735188484192, sigma = 0.08647371083498001, em = 0.3587414026260376\n",
      "Step 220: mu = 1.9537057876586914, sigma = 0.0790247693657875, em = 1.3401284217834473\n",
      "Step 230: mu = 1.9400569200515747, sigma = 0.07335750013589859, em = -0.43128636479377747\n",
      "Step 240: mu = 1.8810839653015137, sigma = 0.06793978810310364, em = 2.328289031982422\n",
      "Step 250: mu = 1.9392446279525757, sigma = 0.06688281148672104, em = -0.2614787518978119\n",
      "Step 260: mu = 1.974042296409607, sigma = 0.06079322099685669, em = -0.05557429790496826\n",
      "Step 270: mu = 1.9388844966888428, sigma = 0.05526292696595192, em = 0.3172961175441742\n",
      "Step 280: mu = 1.9410529136657715, sigma = 0.05081037059426308, em = -1.7545145750045776\n",
      "Step 290: mu = 1.9398157596588135, sigma = 0.046300068497657776, em = -0.4293421804904938\n",
      "Step 300: mu = 1.9680275917053223, sigma = 0.042679838836193085, em = 3.7802066802978516\n"
     ]
    }
   ],
   "source": [
    "# Save losses\n",
    "wgan_losses = np.zeros(count_steps)\n",
    "\n",
    "config = tf.ConfigProto()\n",
    "config.gpu_options.allow_growth = True\n",
    "with tf.Session(config=config) as sess:\n",
    "    sess.run(tf.global_variables_initializer())\n",
    "    # Output the current values\n",
    "    mu_val, lg_sigma_val = sess.run([mu, lg_sigma])\n",
    "    print('Step 0: mu = {}, sigma = {}'.format(mu_val, np.exp(lg_sigma_val)))\n",
    "\n",
    "    for epoch in range(count_steps):\n",
    "        # Reset critic optimizer parameters at each epoch\n",
    "        sess.run(reset_critic)\n",
    "\n",
    "        # Optimize critic\n",
    "        for idx in range(critic_steps):\n",
    "            x_real = np.random.choice(obs_samples,[batch_size,1])\n",
    "            thetas = sess.run(sample_proposal)\n",
    "            x_sim = simulator(thetas)\n",
    "            _, this_loss = sess.run([train_critic, wgan_loss],feed_dict={X_real:x_real,X_sim:x_sim})\n",
    "        # Save loss after optimizing\n",
    "        wgan_losses[epoch] = this_loss\n",
    "\n",
    "        # Update the proposal\n",
    "        thetas = sess.run(sample_proposal)\n",
    "        x_sim = simulator(thetas)\n",
    "        _ = sess.run(train_proposal,feed_dict={X_sim:x_sim,sample_proposal:thetas})\n",
    "\n",
    "        # Output the current values\n",
    "        if ((epoch+1) % 10)  == 0:\n",
    "            mu_val, lg_sigma_val = sess.run([mu, lg_sigma])\n",
    "            print('Step {}: mu = {}, sigma = {}, em = {}'.format(epoch+1, mu_val, \n",
    "                                                                 np.exp(lg_sigma_val), this_loss))\n",
    "    \n",
    "    # Save final values of distribution\n",
    "    mu_val,lg_sigma_val = sess.run([mu, lg_sigma])"
   ]
  },
  {
   "cell_type": "markdown",
   "metadata": {},
   "source": [
    "Plot result:"
   ]
  },
  {
   "cell_type": "code",
   "execution_count": 7,
   "metadata": {
    "scrolled": true
   },
   "outputs": [
    {
     "data": {
      "text/plain": [
       "<matplotlib.legend.Legend at 0x7f4e44525400>"
      ]
     },
     "execution_count": 7,
     "metadata": {},
     "output_type": "execute_result"
    },
    {
     "data": {
      "image/png": "[encoded data removed]",
      "text/plain": [
       "<matplotlib.figure.Figure at 0x7f4e513b79e8>"
      ]
     },
     "metadata": {},
     "output_type": "display_data"
    }
   ],
   "source": [
    "x = np.linspace(1,3,400)\n",
    "y = norm.pdf(x,mu_val,np.exp(lg_sigma_val))\n",
    "\n",
    "plt.plot(x,y,label=\"Proposal distribion\")\n",
    "plt.vlines(np.log(7),0,y.max(), label=\"True value\")\n",
    "plt.legend()"
   ]
  },
  {
   "cell_type": "code",
   "execution_count": null,
   "metadata": {},
   "outputs": [],
   "source": []
  }
 ],
 "metadata": {
  "kernelspec": {
   "display_name": "Python 3",
   "language": "python",
   "name": "python3"
  },
  "language_info": {
   "codemirror_mode": {
    "name": "ipython",
    "version": 3
   },
   "file_extension": ".py",
   "mimetype": "text/x-python",
   "name": "python",
   "nbconvert_exporter": "python",
   "pygments_lexer": "ipython3",
   "version": "3.6.3"
  }
 },
 "nbformat": 4,
 "nbformat_minor": 2
}
