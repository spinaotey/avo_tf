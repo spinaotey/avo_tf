{
 "cells": [
  {
   "cell_type": "code",
   "execution_count": 1,
   "metadata": {},
   "outputs": [],
   "source": [
    "import os\n",
    "from functools import partial\n",
    "\n",
    "os.environ['TF_CPP_MIN_LOG_LEVEL'] = '3'\n",
    "\n",
    "%matplotlib inline\n",
    "import tensorflow as tf\n",
    "import numpy as np\n",
    "import matplotlib.pyplot as plt\n",
    "\n",
    "import tensorflow.contrib.slim as slim\n",
    "\n",
    "from scipy.stats import poisson, norm"
   ]
  },
  {
   "cell_type": "markdown",
   "metadata": {},
   "source": [
    "We change define the leaky_relu with default parameter `alpha=0.1`"
   ]
  },
  {
   "cell_type": "code",
   "execution_count": 2,
   "metadata": {},
   "outputs": [],
   "source": [
    "leaky_relu = partial(tf.nn.leaky_relu,alpha=0.1)"
   ]
  },
  {
   "cell_type": "markdown",
   "metadata": {},
   "source": [
    "Define parameters of the model."
   ]
  },
  {
   "cell_type": "code",
   "execution_count": 3,
   "metadata": {},
   "outputs": [],
   "source": [
    "batch_size = 64\n",
    "learning_rate = 0.01\n",
    "lambda_gradient = 0.05 # Gradient penalty\n",
    "lambda_entropy = 5. # Entropy penalty\n",
    "obs_poisson_rate = 7. # Poisson rate of the observed data\n",
    "prop_initial_mu = np.log(5) # Initial mu of the proposal distribution \n",
    "prop_initial_log_sigma = np.log(0.3) # Inintial log(sigma) of the proposal distribution\n",
    "beta1 = 0.5\n",
    "beta2 = 0.5\n",
    "critic_steps = 100\n",
    "count_steps = 300+1\n",
    "\n",
    "#For reproducibility \n",
    "tf.set_random_seed(2210)\n",
    "np.random.seed(2210)"
   ]
  },
  {
   "cell_type": "markdown",
   "metadata": {},
   "source": [
    "Generate observed samples and define simulator."
   ]
  },
  {
   "cell_type": "code",
   "execution_count": 4,
   "metadata": {},
   "outputs": [],
   "source": [
    "# Generate observed samples\n",
    "obs_samples = poisson.rvs(obs_poisson_rate,size=20000)\n",
    "\n",
    "# Define simulator\n",
    "def simulator(X,epsilon=1e-7):\n",
    "    return poisson.rvs(np.exp(X))+epsilon"
   ]
  },
  {
   "cell_type": "markdown",
   "metadata": {},
   "source": [
    "Define AVO model."
   ]
  },
  {
   "cell_type": "code",
   "execution_count": 5,
   "metadata": {},
   "outputs": [],
   "source": [
    "batch_shape = (batch_size, 1)\n",
    "critic_shape = (batch_size, 1)\n",
    "\n",
    "# Placeholder for real distribution\n",
    "X_real = tf.placeholder(tf.float32,shape=batch_shape)\n",
    "\n",
    "# Define proposal parameters Psi\n",
    "with tf.variable_scope('proposal'):\n",
    "    mu = tf.get_variable('mu', shape=(), initializer=tf.constant_initializer(prop_initial_mu))\n",
    "    # We use logarithm of sigma since sigma >= 0 in order to stretch it over the real line\n",
    "    lg_sigma = tf.get_variable('lg_sigma', shape=(), initializer=tf.constant_initializer(prop_initial_log_sigma))\n",
    "\n",
    "# Define proposal distribution q\n",
    "prop_distribution = tf.contrib.distributions.Normal(loc=mu, scale=tf.exp(lg_sigma))\n",
    "sample_proposal = tf.stop_gradient(prop_distribution.sample(sample_shape=batch_shape))\n",
    "\n",
    "# Compute the log probability for the parameters \n",
    "log_prob_prop = prop_distribution.log_prob(sample_proposal)\n",
    "#Analytic differential entropy for the proposal distribution\n",
    "entropy_proposal = lg_sigma \n",
    "\n",
    "# Placeholder for simulated distribution\n",
    "X_sim = tf.placeholder(tf.float32,shape=batch_shape)\n",
    "\n",
    "# Define the critic\n",
    "def critic(x):\n",
    "    layer = slim.stack(x, slim.fully_connected, [10, 10], scope='shared', activation_fn=leaky_relu)\n",
    "    logits = slim.fully_connected(layer, 1, activation_fn=tf.identity, scope='logits')\n",
    "    return logits\n",
    "\n",
    "# Define interpolated data points for the Gradient Penalty Term\n",
    "eps = tf.random_uniform(critic_shape, minval=0., maxval=1.)\n",
    "X_interp = eps*X_real + (1.-eps)*X_sim\n",
    "\n",
    "# Compute critic for different inputs sharing the same variables of the NN:\n",
    "with tf.variable_scope('critic'):\n",
    "    critic_real = critic(X_real)\n",
    "    tf.get_variable_scope().reuse_variables()\n",
    "    critic_sim = critic(X_sim)\n",
    "    critic_interp = critic(X_interp)\n",
    "\n",
    "# Gradient penalty \n",
    "grad = tf.gradients(critic_interp, [X_interp])[0]\n",
    "gradient_penalty = lambda_gradient * tf.square(tf.norm(grad, 2,axis=1) - 1)\n",
    "\n",
    "# Define losses\n",
    "loss_critic = tf.reduce_mean(critic_sim - critic_real + gradient_penalty)\n",
    "wgan_loss = -tf.reduce_mean(critic_sim - critic_real) # Distance between distributions\n",
    "loss_prop = tf.reduce_mean(-tf.multiply(critic_sim, log_prob_prop) + lambda_entropy*entropy_proposal)\n",
    "\n",
    "# Define trainable variables\n",
    "prop_vars = [var for var in tf.trainable_variables() if var.name.startswith('proposal')]\n",
    "critic_vars = [var for var in tf.trainable_variables() if var.name.startswith('critic')]\n",
    "\n",
    "# Define optimizers\n",
    "critic_optimizer = tf.train.AdamOptimizer(learning_rate=learning_rate, name='critic', beta1=beta1, beta2=beta2)\n",
    "prop_optimizer = tf.train.AdamOptimizer(learning_rate=learning_rate, name='proposal', beta1=beta1, beta2=beta2)\n",
    "\n",
    "# Define training operations\n",
    "train_critic = critic_optimizer.minimize(loss_critic, var_list=critic_vars)\n",
    "train_proposal = prop_optimizer.minimize(loss_prop, var_list=prop_vars)\n",
    "\n",
    "# Define variables to reset for critic optimizer\n",
    "velocity_vars = [critic_optimizer.get_slot(var, 'v') for var in critic_vars]\n",
    "momentum_vars = [critic_optimizer.get_slot(var, 'm') for var in critic_vars]\n",
    "reset_vel_mom = tf.variables_initializer(velocity_vars + momentum_vars)\n",
    "\n",
    "#Reset beta power variables:\n",
    "reset_b1 = tf.assign(critic_optimizer._beta1_power,beta1)\n",
    "reset_b2 = tf.assign(critic_optimizer._beta2_power,beta2)\n",
    "reset_critic = [reset_b1,reset_b2,reset_vel_mom]"
   ]
  },
  {
   "cell_type": "markdown",
   "metadata": {},
   "source": [
    "Run AVO model to find the parameter distribution."
   ]
  },
  {
   "cell_type": "code",
   "execution_count": 6,
   "metadata": {},
   "outputs": [
    {
     "name": "stdout",
     "output_type": "stream",
     "text": [
      "Step 0: mu = 1.6094379425048828, sigma = 0.29999998211860657\n",
      "Step 10: mu = 1.7073651552200317, sigma = 0.3077947199344635, em = 21.79434585571289\n",
      "Step 20: mu = 1.797516942024231, sigma = 0.3173319399356842, em = 5.831878662109375\n",
      "Step 30: mu = 1.87786066532135, sigma = 0.3068922162055969, em = 0.5960229635238647\n",
      "Step 40: mu = 1.8758362531661987, sigma = 0.2809939384460449, em = 3.1009020805358887\n",
      "Step 50: mu = 1.8789273500442505, sigma = 0.26386597752571106, em = 5.094919681549072\n",
      "Step 60: mu = 1.8813620805740356, sigma = 0.2476509064435959, em = 2.3606066703796387\n",
      "Step 70: mu = 1.9117578268051147, sigma = 0.23282122611999512, em = 2.9583635330200195\n",
      "Step 80: mu = 1.9088040590286255, sigma = 0.2245437055826187, em = 2.7919392585754395\n",
      "Step 90: mu = 1.9075984954833984, sigma = 0.2058238685131073, em = 2.942840337753296\n",
      "Step 100: mu = 1.9340057373046875, sigma = 0.18983188271522522, em = 2.908395528793335\n",
      "Step 110: mu = 1.9198776483535767, sigma = 0.17438092827796936, em = 0.505717933177948\n",
      "Step 120: mu = 1.9541364908218384, sigma = 0.15860721468925476, em = 2.127305030822754\n",
      "Step 130: mu = 1.928680181503296, sigma = 0.14509448409080505, em = 1.7633622884750366\n",
      "Step 140: mu = 1.9362435340881348, sigma = 0.13187722861766815, em = -0.5424131751060486\n",
      "Step 150: mu = 1.9370942115783691, sigma = 0.11967664957046509, em = -0.23183336853981018\n",
      "Step 160: mu = 1.9415279626846313, sigma = 0.10851170867681503, em = 0.32605868577957153\n",
      "Step 170: mu = 1.9382394552230835, sigma = 0.09841453284025192, em = 0.08836717903614044\n",
      "Step 180: mu = 1.9558167457580566, sigma = 0.089971162378788, em = 0.359925240278244\n",
      "Step 190: mu = 1.9254300594329834, sigma = 0.08226687461137772, em = 0.6687011122703552\n",
      "Step 200: mu = 1.9272466897964478, sigma = 0.07593271881341934, em = -0.12555205821990967\n",
      "Step 210: mu = 1.9236565828323364, sigma = 0.07200434058904648, em = 0.9805615544319153\n",
      "Step 220: mu = 1.9542256593704224, sigma = 0.06670232117176056, em = -1.4451872110366821\n",
      "Step 230: mu = 1.9386613368988037, sigma = 0.062327951192855835, em = -0.7733452320098877\n",
      "Step 240: mu = 2.01267671585083, sigma = 0.06147085130214691, em = 1.7881393432617188e-07\n",
      "Step 250: mu = 1.9664372205734253, sigma = 0.058596979826688766, em = -1.4552521705627441\n",
      "Step 260: mu = 1.9170091152191162, sigma = 0.05448748171329498, em = 0.5339186191558838\n",
      "Step 270: mu = 1.9375274181365967, sigma = 0.04961252585053444, em = 0.20519110560417175\n",
      "Step 280: mu = 1.9558651447296143, sigma = 0.0455370768904686, em = 0.06601206958293915\n",
      "Step 290: mu = 1.9414000511169434, sigma = 0.041432205587625504, em = -0.6238637566566467\n",
      "Step 300: mu = 1.94699227809906, sigma = 0.03838077560067177, em = 0.15581867098808289\n"
     ]
    }
   ],
   "source": [
    "# Save losses\n",
    "wgan_losses = np.zeros(count_steps)\n",
    "\n",
    "config = tf.ConfigProto()\n",
    "config.gpu_options.allow_growth = True\n",
    "with tf.Session(config=config) as sess:\n",
    "    sess.run(tf.global_variables_initializer())\n",
    "    # Output the current values\n",
    "    mu_val, lg_sigma_val = sess.run([mu, lg_sigma])\n",
    "    print('Step 0: mu = {}, sigma = {}'.format(mu_val, np.exp(lg_sigma_val)))\n",
    "\n",
    "    for epoch in range(count_steps):\n",
    "        # Reset critic optimizer parameters at each epoch\n",
    "        sess.run(reset_critic)\n",
    "\n",
    "        # Optimize critic\n",
    "        for idx in range(critic_steps):\n",
    "            x_real = np.random.choice(obs_samples,[batch_size,1])\n",
    "            thetas = sess.run(sample_proposal)\n",
    "            x_sim = simulator(thetas)\n",
    "            _, this_loss = sess.run([train_critic, wgan_loss],feed_dict={X_real:x_real,X_sim:x_sim})\n",
    "        # Save loss after optimizing\n",
    "        wgan_losses[epoch] = this_loss\n",
    "\n",
    "        # Update the proposal\n",
    "        thetas = sess.run(sample_proposal)\n",
    "        x_sim = simulator(thetas)\n",
    "        _ = sess.run(train_proposal,feed_dict={X_sim:x_sim,sample_proposal:thetas})\n",
    "\n",
    "        # Output the current values\n",
    "        if ((epoch+1) % 10)  == 0:\n",
    "            mu_val, lg_sigma_val = sess.run([mu, lg_sigma])\n",
    "            print('Step {}: mu = {}, sigma = {}, em = {}'.format(epoch+1, mu_val, \n",
    "                                                                 np.exp(lg_sigma_val), this_loss))\n",
    "            \n",
    "    # Save final values of distribution\n",
    "    mu_val,lg_sigma_val = sess.run([mu, lg_sigma])"
   ]
  },
  {
   "cell_type": "markdown",
   "metadata": {},
   "source": [
    "Plot result:"
   ]
  },
  {
   "cell_type": "code",
   "execution_count": 7,
   "metadata": {
    "scrolled": true
   },
   "outputs": [
    {
     "data": {
      "text/plain": [
       "<matplotlib.legend.Legend at 0x7fbcac2fb5f8>"
      ]
     },
     "execution_count": 7,
     "metadata": {},
     "output_type": "execute_result"
    },
    {
     "data": {
      "image/png": "[encoded data removed]",
      "text/plain": [
       "<matplotlib.figure.Figure at 0x7fbcbaae20f0>"
      ]
     },
     "metadata": {},
     "output_type": "display_data"
    }
   ],
   "source": [
    "x = np.linspace(1,3,400)\n",
    "y = norm.pdf(x,mu_val,np.exp(lg_sigma_val))\n",
    "\n",
    "plt.plot(x,y,label=\"Proposal distribion\")\n",
    "plt.vlines(np.log(7),0,y.max(), label=\"True value\")\n",
    "plt.legend()"
   ]
  },
  {
   "cell_type": "code",
   "execution_count": null,
   "metadata": {},
   "outputs": [],
   "source": []
  }
 ],
 "metadata": {
  "kernelspec": {
   "display_name": "Python 3",
   "language": "python",
   "name": "python3"
  },
  "language_info": {
   "codemirror_mode": {
    "name": "ipython",
    "version": 3
   },
   "file_extension": ".py",
   "mimetype": "text/x-python",
   "name": "python",
   "nbconvert_exporter": "python",
   "pygments_lexer": "ipython3",
   "version": "3.6.3"
  }
 },
 "nbformat": 4,
 "nbformat_minor": 2
}
