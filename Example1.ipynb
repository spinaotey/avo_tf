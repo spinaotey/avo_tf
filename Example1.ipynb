{
 "cells": [
  {
   "cell_type": "code",
   "execution_count": 1,
   "metadata": {},
   "outputs": [],
   "source": [
    "import os\n",
    "from functools import partial\n",
    "\n",
    "os.environ['TF_CPP_MIN_LOG_LEVEL'] = '3'\n",
    "\n",
    "%matplotlib inline\n",
    "import tensorflow as tf\n",
    "import numpy as np\n",
    "import matplotlib.pyplot as plt\n",
    "\n",
    "from scipy.stats import poisson, norm"
   ]
  },
  {
   "cell_type": "markdown",
   "metadata": {},
   "source": [
    "Define parameters of the model."
   ]
  },
  {
   "cell_type": "code",
   "execution_count": 2,
   "metadata": {},
   "outputs": [],
   "source": [
    "batch_size = 5000\n",
    "learning_rate = 0.001\n",
    "lambda_lp = 200 # Gradient penalty\n",
    "lambda_entropy = 5. # Entropy penalty\n",
    "obs_poisson_rate = 7. # Poisson rate of the observed data\n",
    "prop_initial_mu = np.log(5) # Initial mu of the proposal distribution \n",
    "prop_initial_log_sigma = np.log(.3) # Inintial log(sigma) of the proposal distribution\n",
    "beta1 = 0.5\n",
    "beta2 = 0.5\n",
    "dragan_parameter_C = 0.5\n",
    "critic_steps = 1000\n",
    "count_steps = 300+1\n",
    "\n",
    "#For reproducibility \n",
    "tf.set_random_seed(2210)\n",
    "np.random.seed(2210)"
   ]
  },
  {
   "cell_type": "code",
   "execution_count": 3,
   "metadata": {},
   "outputs": [],
   "source": [
    "def glorot_uniform(fan_in, fan_out, scale=0.1):\n",
    "    s = scale * np.sqrt(6. / (fan_in + fan_out))\n",
    "    return np.random.rand(fan_in, fan_out) * 2 * s - s"
   ]
  },
  {
   "cell_type": "markdown",
   "metadata": {},
   "source": [
    "Generate observed samples and define simulator."
   ]
  },
  {
   "cell_type": "code",
   "execution_count": 4,
   "metadata": {},
   "outputs": [],
   "source": [
    "# Generate observed samples\n",
    "obs_samples = poisson.rvs(obs_poisson_rate,size=20000)\n",
    "\n",
    "# Define simulator\n",
    "def simulator(X,epsilon=1e-7):\n",
    "    return poisson.rvs(np.exp(X))+epsilon"
   ]
  },
  {
   "cell_type": "markdown",
   "metadata": {},
   "source": [
    "Define AVO model."
   ]
  },
  {
   "cell_type": "code",
   "execution_count": 5,
   "metadata": {},
   "outputs": [],
   "source": [
    "batch_shape = (batch_size, 1)\n",
    "critic_shape = (batch_size, 1)\n",
    "\n",
    "# Placeholder for real distribution\n",
    "X_real = tf.placeholder(tf.float32,shape=batch_shape)\n",
    "\n",
    "# Define proposal parameters Psi\n",
    "with tf.variable_scope('proposal'):\n",
    "    mu = tf.get_variable('mu', shape=(), initializer=tf.constant_initializer(prop_initial_mu))\n",
    "    # We use logarithm of sigma since sigma >= 0 in order to stretch it over the real line\n",
    "    lg_sigma = tf.get_variable('lg_sigma', shape=(), initializer=tf.constant_initializer(prop_initial_log_sigma))\n",
    "\n",
    "# Define proposal distribution q\n",
    "prop_distribution = tf.contrib.distributions.Normal(loc=mu, scale=tf.exp(lg_sigma))\n",
    "sample_proposal = tf.stop_gradient(prop_distribution.sample(sample_shape=batch_shape))\n",
    "\n",
    "# Compute the log probability for the parameters \n",
    "log_prob_prop = prop_distribution.log_prob(sample_proposal)\n",
    "#Analytic differential entropy for the proposal distribution\n",
    "entropy_proposal = lg_sigma \n",
    "\n",
    "# Placeholder for simulated distribution\n",
    "X_sim = tf.placeholder(tf.float32,shape=batch_shape)\n",
    "\n",
    "# Define critic variables\n",
    "with tf.name_scope('critic'):\n",
    "    W0 = tf.Variable(glorot_uniform(1,10),dtype=tf.float32,name='W0')\n",
    "    W1 = tf.Variable(glorot_uniform(10,10),dtype=tf.float32,name='W1')\n",
    "    W2 = tf.Variable(glorot_uniform(10,1),dtype=tf.float32,name='W2')\n",
    "    b0 = tf.Variable(np.zeros([1,10]),dtype=tf.float32,name='b0')\n",
    "    b1 = tf.Variable(np.zeros([1,10]),dtype=tf.float32,name='b1')\n",
    "    b2 = tf.Variable(np.zeros([1,1]),dtype=tf.float32,name='b2')\n",
    "\n",
    "# Define the critic\n",
    "def critic(x):\n",
    "    h1 = tf.nn.leaky_relu(tf.matmul(x,W0)+b0,alpha=.1)\n",
    "    h2 = tf.nn.leaky_relu(tf.matmul(h1,W1)+b1,alpha=.1)\n",
    "    out = tf.matmul(h2,W2)+b2\n",
    "    return out\n",
    "\n",
    "# Define perturbed points for LP\n",
    "X_perturb = tf.concat([X_real,X_sim],axis=0)\n",
    "u = tf.random_uniform(shape=[tf.shape(X_perturb)[0], 1],minval=-1.,maxval=1.)\n",
    "_, batch_std = tf.nn.moments(tf.reshape(X_perturb, [-1]), axes=[0])\n",
    "delta = dragan_parameter_C * batch_std * u\n",
    "alpha = tf.random_uniform(shape=[tf.shape(X_perturb)[0], 1],minval=0.,maxval=1.)\n",
    "X_perturb += (1. - alpha) * delta\n",
    "\n",
    "# Compute critic for different inputs sharing the same variables of the NN:\n",
    "critic_real = critic(X_real)\n",
    "critic_sim = critic(X_sim)\n",
    "critic_perturb = critic(X_perturb)\n",
    "\n",
    "# LP penalty\n",
    "gradients = tf.gradients(critic_perturb, [X_perturb])[0]\n",
    "slopes = tf.sqrt(tf.reduce_sum(tf.square(gradients), axis=1))\n",
    "gradient_penalty = tf.reduce_mean((tf.maximum(0., slopes - 1)) ** 2)\n",
    "\n",
    "# Define losses\n",
    "loss_critic = tf.reduce_mean(critic_sim - critic_real)+lambda_lp*gradient_penalty\n",
    "em = -tf.reduce_mean(critic_sim - critic_real) # Distance between distributions\n",
    "loss_prop = tf.reduce_mean(-tf.multiply(critic_sim, log_prob_prop) + lambda_entropy*entropy_proposal)\n",
    "\n",
    "# Define trainable variables\n",
    "prop_vars = [var for var in tf.trainable_variables() if var.name.startswith('proposal')]\n",
    "critic_vars = [var for var in tf.trainable_variables() if var.name.startswith('critic')]\n",
    "\n",
    "# Define optimizers\n",
    "critic_optimizer = tf.train.AdamOptimizer(learning_rate=learning_rate, name='critic', beta1=beta1, beta2=beta2)\n",
    "prop_optimizer = tf.train.AdamOptimizer(learning_rate=learning_rate, name='proposal', beta1=beta1, beta2=beta2)\n",
    "\n",
    "# Define training operations\n",
    "train_critic = critic_optimizer.minimize(loss_critic, var_list=critic_vars)\n",
    "train_proposal = prop_optimizer.minimize(loss_prop, var_list=prop_vars)\n",
    "\n",
    "# Define variables to reset for critic optimizer\n",
    "velocity_vars = [critic_optimizer.get_slot(var, 'v') for var in critic_vars]\n",
    "momentum_vars = [critic_optimizer.get_slot(var, 'm') for var in critic_vars]\n",
    "reset_vel_mom = tf.variables_initializer(velocity_vars + momentum_vars)\n",
    "\n",
    "#Reset beta power variables:\n",
    "reset_b1 = tf.assign(critic_optimizer._beta1_power,beta1)\n",
    "reset_b2 = tf.assign(critic_optimizer._beta2_power,beta2)\n",
    "reset_critic = [reset_b1,reset_b2,reset_vel_mom]"
   ]
  },
  {
   "cell_type": "markdown",
   "metadata": {},
   "source": [
    "Run AVO model to find the parameter distribution."
   ]
  },
  {
   "cell_type": "code",
   "execution_count": 6,
   "metadata": {},
   "outputs": [
    {
     "name": "stdout",
     "output_type": "stream",
     "text": [
      "Step 0: mu = 1.6094379425048828, sigma = 0.29999998211860657\n",
      "Step 10: mu = 1.61842942237854, sigma = 0.2973127067089081, em = 1.7592369318008423\n",
      "Step 20: mu = 1.6284191608428955, sigma = 0.2943558692932129, em = 1.7626668214797974\n",
      "Step 30: mu = 1.6384137868881226, sigma = 0.29142749309539795, em = 1.589845061302185\n",
      "Step 40: mu = 1.6484051942825317, sigma = 0.2885285019874573, em = 1.4830119609832764\n",
      "Step 50: mu = 1.6583991050720215, sigma = 0.2856582999229431, em = 1.5617560148239136\n",
      "Step 60: mu = 1.668389916419983, sigma = 0.28281688690185547, em = 1.5187712907791138\n",
      "Step 70: mu = 1.6783783435821533, sigma = 0.28000393509864807, em = 1.3520482778549194\n",
      "Step 80: mu = 1.6883662939071655, sigma = 0.2772198021411896, em = 1.36491060256958\n",
      "Step 90: mu = 1.6983534097671509, sigma = 0.27446213364601135, em = 1.2969111204147339\n",
      "Step 100: mu = 1.7083429098129272, sigma = 0.27173176407814026, em = 1.3511086702346802\n",
      "Step 110: mu = 1.7183257341384888, sigma = 0.26903021335601807, em = 1.1380444765090942\n",
      "Step 120: mu = 1.7283161878585815, sigma = 0.2663538157939911, em = 1.1700128316879272\n",
      "Step 130: mu = 1.7383002042770386, sigma = 0.26370564103126526, em = 1.027696132659912\n",
      "Step 140: mu = 1.7482874393463135, sigma = 0.26108303666114807, em = 1.1367011070251465\n",
      "Step 150: mu = 1.7582762241363525, sigma = 0.2584867477416992, em = 1.0171231031417847\n",
      "Step 160: mu = 1.7682702541351318, sigma = 0.255915105342865, em = 0.9386376738548279\n",
      "Step 170: mu = 1.7782667875289917, sigma = 0.25336894392967224, em = 0.9567958116531372\n",
      "Step 180: mu = 1.7882577180862427, sigma = 0.25084853172302246, em = 0.8973356485366821\n",
      "Step 190: mu = 1.7982401847839355, sigma = 0.24835699796676636, em = 0.8120211958885193\n",
      "Step 200: mu = 1.8081809282302856, sigma = 0.24588744342327118, em = 0.8290863037109375\n",
      "Step 210: mu = 1.8181475400924683, sigma = 0.24344195425510406, em = 0.6870324015617371\n",
      "Step 220: mu = 1.8281093835830688, sigma = 0.24102050065994263, em = 0.6787256598472595\n",
      "Step 230: mu = 1.8380941152572632, sigma = 0.23862358927726746, em = 0.6987600326538086\n",
      "Step 240: mu = 1.8480870723724365, sigma = 0.2362496256828308, em = 0.5655016899108887\n",
      "Step 250: mu = 1.85808265209198, sigma = 0.23389901220798492, em = 0.45258447527885437\n",
      "Step 260: mu = 1.8680750131607056, sigma = 0.23157182335853577, em = 0.4592052102088928\n",
      "Step 270: mu = 1.8780449628829956, sigma = 0.22926780581474304, em = 0.4167574346065521\n",
      "Step 280: mu = 1.8880341053009033, sigma = 0.22698669135570526, em = 0.3401188850402832\n",
      "Step 290: mu = 1.8980039358139038, sigma = 0.22472821176052094, em = 0.4533475637435913\n",
      "Step 300: mu = 1.907763123512268, sigma = 0.22249248623847961, em = 0.4102787971496582\n"
     ]
    }
   ],
   "source": [
    "# Save losses\n",
    "em_v = np.zeros(count_steps)\n",
    "\n",
    "config = tf.ConfigProto()\n",
    "config.gpu_options.allow_growth = True\n",
    "with tf.Session(config=config) as sess:\n",
    "    sess.run(tf.global_variables_initializer())\n",
    "    # Output the current values\n",
    "    mu_val, lg_sigma_val = sess.run([mu, lg_sigma])\n",
    "    print('Step 0: mu = {}, sigma = {}'.format(mu_val, np.exp(lg_sigma_val)))\n",
    "\n",
    "    for epoch in range(count_steps):\n",
    "        # Reset critic optimizer parameters at each epoch\n",
    "        sess.run(reset_critic)\n",
    "\n",
    "        # Optimize critic\n",
    "        for idx in range(critic_steps):\n",
    "            x_real = np.random.choice(obs_samples,[batch_size,1])\n",
    "            thetas = sess.run(sample_proposal)\n",
    "            x_sim = simulator(thetas)\n",
    "            _, this_em = sess.run([train_critic, em],feed_dict={X_real:x_real,X_sim:x_sim})\n",
    "        # Save loss after optimizing\n",
    "        em_v[epoch] = this_em\n",
    "\n",
    "        # Output the current values\n",
    "        if ((epoch+1) % 10)  == 0:\n",
    "            mu_val, lg_sigma_val = sess.run([mu, lg_sigma])\n",
    "            print('Step {}: mu = {}, sigma = {}, em = {}'.format(epoch+1, mu_val, \n",
    "                                                                 np.exp(lg_sigma_val), this_em))\n",
    "        # Update the proposal\n",
    "        thetas = sess.run(sample_proposal)\n",
    "        x_sim = simulator(thetas)\n",
    "        _ = sess.run(train_proposal,feed_dict={X_sim:x_sim,sample_proposal:thetas})\n",
    "    \n",
    "    # Save final values of distribution\n",
    "    mu_val,lg_sigma_val = sess.run([mu, lg_sigma])"
   ]
  },
  {
   "cell_type": "markdown",
   "metadata": {},
   "source": [
    "Plot result:"
   ]
  },
  {
   "cell_type": "code",
   "execution_count": 7,
   "metadata": {
    "scrolled": true
   },
   "outputs": [
    {
     "data": {
      "text/plain": [
       "<matplotlib.legend.Legend at 0x7f33d5913940>"
      ]
     },
     "execution_count": 7,
     "metadata": {},
     "output_type": "execute_result"
    },
    {
     "data": {
      "image/png": "[encoded data removed]",
      "text/plain": [
       "<matplotlib.figure.Figure at 0x7f33e27f20b8>"
      ]
     },
     "metadata": {},
     "output_type": "display_data"
    }
   ],
   "source": [
    "x = np.linspace(1,3,400)\n",
    "y = norm.pdf(x,mu_val,np.exp(lg_sigma_val))\n",
    "\n",
    "plt.plot(x,y,label=\"Proposal distribion\")\n",
    "plt.vlines(np.log(7),0,y.max(), label=\"True value\")\n",
    "plt.legend()"
   ]
  },
  {
   "cell_type": "code",
   "execution_count": 8,
   "metadata": {},
   "outputs": [
    {
     "data": {
      "text/plain": [
       "[<matplotlib.lines.Line2D at 0x7f33d58caa90>]"
      ]
     },
     "execution_count": 8,
     "metadata": {},
     "output_type": "execute_result"
    },
    {
     "data": {
      "image/png": "[encoded data removed]",
      "text/plain": [
       "<matplotlib.figure.Figure at 0x7f33e2b90c88>"
      ]
     },
     "metadata": {},
     "output_type": "display_data"
    }
   ],
   "source": [
    "plt.plot(em_v)"
   ]
  },
  {
   "cell_type": "code",
   "execution_count": 9,
   "metadata": {},
   "outputs": [
    {
     "data": {
      "text/plain": [
       "0"
      ]
     },
     "execution_count": 9,
     "metadata": {},
     "output_type": "execute_result"
    }
   ],
   "source": [
    "np.sum(em_v<0)"
   ]
  },
  {
   "cell_type": "code",
   "execution_count": null,
   "metadata": {},
   "outputs": [],
   "source": []
  }
 ],
 "metadata": {
  "kernelspec": {
   "display_name": "Python 3",
   "language": "python",
   "name": "python3"
  },
  "language_info": {
   "codemirror_mode": {
    "name": "ipython",
    "version": 3
   },
   "file_extension": ".py",
   "mimetype": "text/x-python",
   "name": "python",
   "nbconvert_exporter": "python",
   "pygments_lexer": "ipython3",
   "version": "3.6.3"
  }
 },
 "nbformat": 4,
 "nbformat_minor": 2
}
