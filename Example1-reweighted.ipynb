{
 "cells": [
  {
   "cell_type": "code",
   "execution_count": 1,
   "metadata": {},
   "outputs": [],
   "source": [
    "import os\n",
    "from functools import partial\n",
    "\n",
    "os.environ['TF_CPP_MIN_LOG_LEVEL'] = '3'\n",
    "\n",
    "%matplotlib inline\n",
    "import tensorflow as tf\n",
    "import numpy as np\n",
    "import matplotlib.pyplot as plt\n",
    "\n",
    "from scipy.stats import poisson, norm"
   ]
  },
  {
   "cell_type": "markdown",
   "metadata": {},
   "source": [
    "Define parameters of the model."
   ]
  },
  {
   "cell_type": "code",
   "execution_count": 2,
   "metadata": {},
   "outputs": [],
   "source": [
    "n_observed = 20000\n",
    "n_simulated = 10*n_observed\n",
    "\n",
    "batch_size = 64\n",
    "learning_rate = 0.01\n",
    "lambda_gradient = 0.05# Gradient penalty\n",
    "lambda_entropy = 5. # Entropy penalty\n",
    "obs_poisson_rate = 7. # Poisson rate of the observed data\n",
    "nominal_poisson_rate = 5 # Poisson rate for the nominal data set of simulation\n",
    "prop_initial_mu = np.log(5) # Initial mu of the proposal distribution \n",
    "prop_initial_log_sigma = np.log(.3) # Inintial log(sigma) of the proposal distribution\n",
    "beta1 = 0.5\n",
    "beta2 = 0.5\n",
    "critic_steps = 100\n",
    "count_steps = 300+1\n",
    "\n",
    "#For reproducibility \n",
    "tf.set_random_seed(2210)\n",
    "np.random.seed(2210)"
   ]
  },
  {
   "cell_type": "code",
   "execution_count": 3,
   "metadata": {},
   "outputs": [],
   "source": [
    "def glorot_uniform(fan_in, fan_out, scale=0.1):\n",
    "    s = scale * np.sqrt(6. / (fan_in + fan_out))\n",
    "    return np.random.rand(fan_in, fan_out) * 2 * s - s"
   ]
  },
  {
   "cell_type": "markdown",
   "metadata": {},
   "source": [
    "Generate observed samples and define simulator."
   ]
  },
  {
   "cell_type": "code",
   "execution_count": 4,
   "metadata": {},
   "outputs": [],
   "source": [
    "# Generate observed samples\n",
    "obs_samples = poisson.rvs(obs_poisson_rate,size=n_observed)\n",
    "\n",
    "# Generate simulated nominal samples\n",
    "sim_samples_nominal = poisson.rvs(nominal_poisson_rate,size=[n_simulated,1])\n",
    "pmf_nominal = poisson.pmf(sim_samples_nominal,nominal_poisson_rate) # nominal probability mass of samples\n",
    "\n",
    "# Define simulator/reweighter\n",
    "def simulator(X):\n",
    "    indices = np.random.choice(n_simulated,size=X.shape[0],replace=True)\n",
    "    sim_samples = sim_samples_nominal[indices]\n",
    "    pmf_simulator = poisson.pmf(sim_samples,np.exp(X))\n",
    "    sim_weights = pmf_simulator/pmf_nominal[indices]\n",
    "    return sim_samples, sim_weights"
   ]
  },
  {
   "cell_type": "markdown",
   "metadata": {},
   "source": [
    "Define AVO model."
   ]
  },
  {
   "cell_type": "code",
   "execution_count": 5,
   "metadata": {},
   "outputs": [],
   "source": [
    "batch_shape = (batch_size, 1)\n",
    "critic_shape = (batch_size, 1)\n",
    "\n",
    "# Placeholder for real distribution\n",
    "X_real = tf.placeholder(tf.float32,shape=batch_shape)\n",
    "\n",
    "# Define proposal parameters Psi\n",
    "with tf.variable_scope('proposal'):\n",
    "    mu = tf.get_variable('mu', shape=(), initializer=tf.constant_initializer(prop_initial_mu))\n",
    "    # We use logarithm of sigma since sigma >= 0 in order to stretch it over the real line\n",
    "    lg_sigma = tf.get_variable('lg_sigma', shape=(), initializer=tf.constant_initializer(prop_initial_log_sigma))\n",
    "\n",
    "# Define proposal distribution q\n",
    "prop_distribution = tf.contrib.distributions.Normal(loc=mu, scale=tf.exp(lg_sigma))\n",
    "sample_proposal = tf.stop_gradient(prop_distribution.sample(sample_shape=batch_shape))\n",
    "\n",
    "# Compute the log probability for the parameters \n",
    "log_prob_prop = prop_distribution.log_prob(sample_proposal)\n",
    "#Analytic differential entropy for the proposal distribution\n",
    "entropy_proposal = lg_sigma \n",
    "\n",
    "# Placeholder for simulated distribution and their weights\n",
    "X_sim = tf.placeholder(tf.float32,shape=batch_shape)\n",
    "weights_sim = tf.placeholder(tf.float32,shape=batch_shape)\n",
    "\n",
    "# Define critic variables\n",
    "with tf.name_scope('critic'):\n",
    "    W0 = tf.Variable(glorot_uniform(1,10),dtype=tf.float32,name='W0')\n",
    "    W1 = tf.Variable(glorot_uniform(10,10),dtype=tf.float32,name='W1')\n",
    "    W2 = tf.Variable(glorot_uniform(10,1),dtype=tf.float32,name='W2')\n",
    "    b0 = tf.Variable(np.zeros([1,10]),dtype=tf.float32,name='b0')\n",
    "    b1 = tf.Variable(np.zeros([1,10]),dtype=tf.float32,name='b1')\n",
    "    b2 = tf.Variable(np.zeros([1,1]),dtype=tf.float32,name='b2')\n",
    "\n",
    "# Define the critic\n",
    "def critic(x):\n",
    "    h1 = tf.nn.leaky_relu(tf.matmul(x,W0)+b0,alpha=.1)\n",
    "    h2 = tf.nn.leaky_relu(tf.matmul(h1,W1)+b1,alpha=.1)\n",
    "    out = tf.matmul(h2,W2)+b2\n",
    "    return out\n",
    "\n",
    "# Define interpolated data points for the Gradient Penalty Term\n",
    "eps = tf.random_uniform(critic_shape, minval=0., maxval=1.)\n",
    "X_interp = eps*X_real + (1.-eps)*X_sim\n",
    "\n",
    "# Compute critic for different inputs sharing the same variables of the NN:\n",
    "critic_real = critic(X_real)\n",
    "critic_sim = critic(X_sim)\n",
    "critic_interp = critic(X_interp)\n",
    "\n",
    "# Gradient penalty \n",
    "grad = tf.gradients(critic_interp, [X_interp])[0]\n",
    "gradient_penalty = lambda_gradient * tf.square(tf.norm(grad, 2,axis=1) - 1)\n",
    "\n",
    "# Define losses\n",
    "loss_critic = tf.reduce_sum(weights_sim*critic_sim)/tf.reduce_sum(weights_sim) \\\n",
    "              - tf.reduce_mean(critic_real) \\\n",
    "              + tf.reduce_sum(tf.reshape(weights_sim,[-1])*gradient_penalty)/tf.reduce_sum(weights_sim)\n",
    "wgan_loss = tf.reduce_mean(critic_real) \\\n",
    "            -tf.reduce_sum(weights_sim*critic_sim)/tf.reduce_sum(weights_sim) # Distance between distributions\n",
    "loss_prop = tf.reduce_sum(-tf.multiply(weights_sim*critic_sim, log_prob_prop))/tf.reduce_sum(weights_sim) \\\n",
    "            + lambda_entropy*entropy_proposal\n",
    "\n",
    "# Define trainable variables\n",
    "prop_vars = [var for var in tf.trainable_variables() if var.name.startswith('proposal')]\n",
    "critic_vars = [var for var in tf.trainable_variables() if var.name.startswith('critic')]\n",
    "\n",
    "# Define optimizers\n",
    "critic_optimizer = tf.train.AdamOptimizer(learning_rate=learning_rate, name='critic', beta1=beta1, beta2=beta2)\n",
    "prop_optimizer = tf.train.AdamOptimizer(learning_rate=learning_rate, name='proposal', beta1=beta1, beta2=beta2)\n",
    "\n",
    "# Define training operations\n",
    "train_critic = critic_optimizer.minimize(loss_critic, var_list=critic_vars)\n",
    "train_proposal = prop_optimizer.minimize(loss_prop, var_list=prop_vars)\n",
    "\n",
    "# Define variables to reset for critic optimizer\n",
    "velocity_vars = [critic_optimizer.get_slot(var, 'v') for var in critic_vars]\n",
    "momentum_vars = [critic_optimizer.get_slot(var, 'm') for var in critic_vars]\n",
    "reset_vel_mom = tf.variables_initializer(velocity_vars + momentum_vars)\n",
    "\n",
    "#Reset beta power variables:\n",
    "reset_b1 = tf.assign(critic_optimizer._beta1_power,beta1)\n",
    "reset_b2 = tf.assign(critic_optimizer._beta2_power,beta2)\n",
    "reset_critic = [reset_b1,reset_b2,reset_vel_mom]"
   ]
  },
  {
   "cell_type": "markdown",
   "metadata": {},
   "source": [
    "Run AVO model to find the parameter distribution."
   ]
  },
  {
   "cell_type": "code",
   "execution_count": 6,
   "metadata": {
    "scrolled": true
   },
   "outputs": [
    {
     "name": "stdout",
     "output_type": "stream",
     "text": [
      "Step 0: mu = 1.6094379425048828, sigma = 0.29999998211860657\n",
      "Step 10: mu = 1.6800382137298584, sigma = 0.3011877238750458, em = 15.668819427490234, max_w = 3.523439280789674\n",
      "Step 20: mu = 1.7468341588974, sigma = 0.27716514468193054, em = 34.0302734375, max_w = 2.729654610048103\n",
      "Step 30: mu = 1.7747972011566162, sigma = 0.26787829399108887, em = -9.70721435546875, max_w = 4.987002246685557\n",
      "Step 40: mu = 1.7944461107254028, sigma = 0.24444149434566498, em = 7.3428955078125, max_w = 4.257048305483433\n",
      "Step 50: mu = 1.8427939414978027, sigma = 0.23277510702610016, em = 12.076515197753906, max_w = 1.88107671108101\n",
      "Step 60: mu = 1.8621864318847656, sigma = 0.22556929290294647, em = 2.655548095703125, max_w = 7.375517784327669\n",
      "Step 70: mu = 1.9114201068878174, sigma = 0.22232602536678314, em = 7.194602966308594, max_w = 4.844603773060414\n",
      "Step 80: mu = 1.897908091545105, sigma = 0.2022712081670761, em = 0.19088363647460938, max_w = 2.7740042520488926\n",
      "Step 90: mu = 1.9405733346939087, sigma = 0.19363778829574585, em = 4.559398651123047, max_w = 11.231480145912808\n",
      "Step 100: mu = 1.9545334577560425, sigma = 0.18015262484550476, em = 1.9836997985839844, max_w = 16.73647396141866\n",
      "Step 110: mu = 1.9241164922714233, sigma = 0.1704113632440567, em = -11.062339782714844, max_w = 3.6213381581170974\n",
      "Step 120: mu = 1.8864080905914307, sigma = 0.16494204103946686, em = 3.0105972290039062, max_w = 7.153915851686982\n",
      "Step 130: mu = 1.8615936040878296, sigma = 0.16000854969024658, em = 3.5861129760742188, max_w = 3.427150562105852\n",
      "Step 140: mu = 1.8829436302185059, sigma = 0.15721789002418518, em = 4.220184326171875, max_w = 6.227873420908209\n",
      "Step 150: mu = 1.8884767293930054, sigma = 0.15714459121227264, em = 5.567005157470703, max_w = 14.66880705661082\n",
      "Step 160: mu = 1.8510253429412842, sigma = 0.15290194749832153, em = 0.9555816650390625, max_w = 6.066015972648992\n",
      "Step 170: mu = 1.8756916522979736, sigma = 0.14939619600772858, em = -1.3907623291015625, max_w = 5.111344724850551\n",
      "Step 180: mu = 1.8537710905075073, sigma = 0.13910070061683655, em = 5.1376190185546875, max_w = 3.9139196407723884\n",
      "Step 190: mu = 1.871584415435791, sigma = 0.14038553833961487, em = 2.3426895141601562, max_w = 52.39115762980368\n",
      "Step 200: mu = 1.8990825414657593, sigma = 0.1421470195055008, em = 4.6061553955078125, max_w = 9.563500444747804\n",
      "Step 210: mu = 1.933841586112976, sigma = 0.13496337831020355, em = -1.2137603759765625, max_w = 3.588596039698914\n",
      "Step 220: mu = 1.8977071046829224, sigma = 0.12413377314805984, em = 7.8433685302734375, max_w = 5.069022833079597\n",
      "Step 230: mu = 1.904310941696167, sigma = 0.11441446840763092, em = 2.0053176879882812, max_w = 4.204442132875654\n",
      "Step 240: mu = 1.8577812910079956, sigma = 0.10724572092294693, em = -0.99066162109375, max_w = 4.279165556675026\n",
      "Step 250: mu = 1.911288857460022, sigma = 0.10594278573989868, em = 4.7906646728515625, max_w = 7.732091002761796\n",
      "Step 260: mu = 1.932302713394165, sigma = 0.10300444811582565, em = -0.733978271484375, max_w = 4.197411969378248\n",
      "Step 270: mu = 1.9428032636642456, sigma = 0.09812426567077637, em = 2.0604629516601562, max_w = 5.568148305067585\n",
      "Step 280: mu = 1.9456510543823242, sigma = 0.0941847637295723, em = 2.3121795654296875, max_w = 7.646496211057873\n",
      "Step 290: mu = 1.96720552444458, sigma = 0.09255297482013702, em = -0.5536041259765625, max_w = 10.136657394410895\n",
      "Step 300: mu = 1.946252703666687, sigma = 0.08973602950572968, em = -5.575111389160156, max_w = 5.00173597608558\n"
     ]
    }
   ],
   "source": [
    "# Save losses\n",
    "wgan_losses = np.zeros(count_steps)\n",
    "\n",
    "config = tf.ConfigProto()\n",
    "config.gpu_options.allow_growth = True\n",
    "with tf.Session(config=config) as sess:\n",
    "    sess.run(tf.global_variables_initializer())\n",
    "    # Output the current values\n",
    "    mu_val, lg_sigma_val = sess.run([mu, lg_sigma])\n",
    "    print('Step 0: mu = {}, sigma = {}'.format(mu_val, np.exp(lg_sigma_val)))\n",
    "\n",
    "    for epoch in range(count_steps):\n",
    "        # Reset critic optimizer parameters at each epoch\n",
    "        sess.run(reset_critic)\n",
    "\n",
    "        # Optimize critic\n",
    "        for idx in range(critic_steps):\n",
    "            x_real = np.random.choice(obs_samples,[batch_size,1])\n",
    "            thetas = sess.run(sample_proposal)\n",
    "            x_sim, w_sim = simulator(thetas)\n",
    "            _, this_loss = sess.run([train_critic, wgan_loss],\n",
    "                                    feed_dict={X_real:x_real,X_sim:x_sim,weights_sim:w_sim})\n",
    "        \n",
    "        # Save loss after optimizing\n",
    "        wgan_losses[epoch] = this_loss\n",
    "\n",
    "        # Update the proposal\n",
    "        thetas = sess.run(sample_proposal)\n",
    "        x_sim, w_sim = simulator(thetas)\n",
    "        _ = sess.run(train_proposal,feed_dict={X_sim:x_sim,weights_sim:w_sim,sample_proposal:thetas})\n",
    "\n",
    "        # Output the current values\n",
    "        if ((epoch+1) % 10)  == 0:\n",
    "            mu_val, lg_sigma_val = sess.run([mu, lg_sigma])\n",
    "            print('Step {}: mu = {}, sigma = {}, em = {}, max_w = {}'.format(epoch+1, mu_val, \n",
    "                                                                 np.exp(lg_sigma_val), this_loss,w_sim.max()))\n",
    "            \n",
    "    # Save final values of distribution\n",
    "    mu_val,lg_sigma_val = sess.run([mu, lg_sigma])"
   ]
  },
  {
   "cell_type": "markdown",
   "metadata": {},
   "source": [
    "Plot result:"
   ]
  },
  {
   "cell_type": "code",
   "execution_count": 7,
   "metadata": {},
   "outputs": [
    {
     "data": {
      "text/plain": [
       "<matplotlib.legend.Legend at 0x7fd08c1c9198>"
      ]
     },
     "execution_count": 7,
     "metadata": {},
     "output_type": "execute_result"
    },
    {
     "data": {
      "image/png": "[encoded data removed]",
      "text/plain": [
       "<matplotlib.figure.Figure at 0x7fd0950cd128>"
      ]
     },
     "metadata": {},
     "output_type": "display_data"
    }
   ],
   "source": [
    "x = np.linspace(1,3,400)\n",
    "y = norm.pdf(x,mu_val,np.exp(lg_sigma_val))\n",
    "\n",
    "plt.plot(x,y,label=\"Proposal distribion\")\n",
    "plt.vlines(np.log(7),0,y.max(), label=\"True value\")\n",
    "plt.legend()"
   ]
  },
  {
   "cell_type": "code",
   "execution_count": 8,
   "metadata": {},
   "outputs": [
    {
     "data": {
      "image/png": "[encoded data removed]",
      "text/plain": [
       "<matplotlib.figure.Figure at 0x7fd0950a82e8>"
      ]
     },
     "metadata": {},
     "output_type": "display_data"
    }
   ],
   "source": [
    "plt.plot(wgan_losses);"
   ]
  },
  {
   "cell_type": "code",
   "execution_count": null,
   "metadata": {},
   "outputs": [],
   "source": []
  }
 ],
 "metadata": {
  "kernelspec": {
   "display_name": "Python 3",
   "language": "python",
   "name": "python3"
  },
  "language_info": {
   "codemirror_mode": {
    "name": "ipython",
    "version": 3
   },
   "file_extension": ".py",
   "mimetype": "text/x-python",
   "name": "python",
   "nbconvert_exporter": "python",
   "pygments_lexer": "ipython3",
   "version": "3.6.3"
  }
 },
 "nbformat": 4,
 "nbformat_minor": 2
}
