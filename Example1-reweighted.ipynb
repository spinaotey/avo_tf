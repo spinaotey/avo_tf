{
 "cells": [
  {
   "cell_type": "code",
   "execution_count": 1,
   "metadata": {},
   "outputs": [],
   "source": [
    "import os\n",
    "from functools import partial\n",
    "\n",
    "os.environ['TF_CPP_MIN_LOG_LEVEL'] = '3'\n",
    "\n",
    "%matplotlib inline\n",
    "import tensorflow as tf\n",
    "import numpy as np\n",
    "import matplotlib.pyplot as plt\n",
    "\n",
    "import tensorflow.contrib.slim as slim\n",
    "\n",
    "from scipy.stats import poisson, norm"
   ]
  },
  {
   "cell_type": "markdown",
   "metadata": {},
   "source": [
    "We change define the leaky_relu with default parameter `alpha=0.1`"
   ]
  },
  {
   "cell_type": "code",
   "execution_count": 2,
   "metadata": {},
   "outputs": [],
   "source": [
    "leaky_relu = partial(tf.nn.leaky_relu,alpha=0.1)"
   ]
  },
  {
   "cell_type": "markdown",
   "metadata": {},
   "source": [
    "Define parameters of the model."
   ]
  },
  {
   "cell_type": "code",
   "execution_count": 3,
   "metadata": {},
   "outputs": [],
   "source": [
    "n_observed = 20000\n",
    "n_simulated = 10*n_observed\n",
    "\n",
    "batch_size = 64\n",
    "learning_rate = 0.01\n",
    "lambda_gradient = 0.025 # Gradient penalty\n",
    "lambda_entropy = 5. # Entropy penalty\n",
    "obs_poisson_rate = 7. # Poisson rate of the observed data\n",
    "nominal_poisson_rate = 7 # Poisson rate for the nominal data set of simulation\n",
    "prop_initial_mu = np.log(5) # Initial mu of the proposal distribution \n",
    "prop_initial_log_sigma = 0. # Inintial log(sigma) of the proposal distribution\n",
    "beta1 = 0.5\n",
    "beta2 = 0.5\n",
    "critic_steps = 100\n",
    "count_steps = 300+1\n",
    "\n",
    "#For reproducibility \n",
    "tf.set_random_seed(2210)\n",
    "np.random.seed(2210)"
   ]
  },
  {
   "cell_type": "markdown",
   "metadata": {},
   "source": [
    "Generate observed samples and define simulator."
   ]
  },
  {
   "cell_type": "code",
   "execution_count": 4,
   "metadata": {},
   "outputs": [],
   "source": [
    "# Generate observed samples\n",
    "obs_samples = poisson.rvs(obs_poisson_rate,size=n_observed)\n",
    "\n",
    "# Generate simulated nominal samples\n",
    "sim_samples_nominal = poisson.rvs(nominal_poisson_rate,size=[n_simulated,1])\n",
    "pmf_nominal = poisson.pmf(sim_samples_nominal,nominal_poisson_rate) # nominal probability mass of samples\n",
    "\n",
    "# Define simulator/reweighter\n",
    "def simulator(X):\n",
    "    indices = np.random.choice(n_simulated,size=X.shape[0],replace=True)\n",
    "    sim_samples = sim_samples_nominal[indices]\n",
    "    pmf_simulator = poisson.pmf(sim_samples,np.exp(X))\n",
    "    sim_weights = pmf_simulator/pmf_nominal[indices]\n",
    "    return sim_samples, sim_weights"
   ]
  },
  {
   "cell_type": "markdown",
   "metadata": {},
   "source": [
    "Define AVO model."
   ]
  },
  {
   "cell_type": "code",
   "execution_count": 5,
   "metadata": {},
   "outputs": [],
   "source": [
    "batch_shape = (batch_size, 1)\n",
    "critic_shape = (batch_size, 1)\n",
    "\n",
    "# Placeholder for real distribution\n",
    "X_real = tf.placeholder(tf.float32,shape=batch_shape)\n",
    "\n",
    "# Define proposal parameters Psi\n",
    "with tf.variable_scope('proposal'):\n",
    "    mu = tf.get_variable('mu', shape=(), initializer=tf.constant_initializer(prop_initial_mu))\n",
    "    # We use logarithm of sigma since sigma >= 0 in order to stretch it over the real line\n",
    "    lg_sigma = tf.get_variable('lg_sigma', shape=(), initializer=tf.constant_initializer(prop_initial_log_sigma))\n",
    "\n",
    "# Define proposal distribution q\n",
    "prop_distribution = tf.contrib.distributions.Normal(loc=mu, scale=tf.exp(lg_sigma))\n",
    "sample_proposal = tf.stop_gradient(prop_distribution.sample(sample_shape=batch_shape))\n",
    "\n",
    "# Compute the log probability for the parameters \n",
    "log_prob_prop = prop_distribution.log_prob(sample_proposal)\n",
    "#Analytic differential entropy for the proposal distribution\n",
    "entropy_proposal = lg_sigma \n",
    "\n",
    "# Placeholder for simulated distribution and their weights\n",
    "X_sim = tf.placeholder(tf.float32,shape=batch_shape)\n",
    "weights_sim = tf.placeholder(tf.float32,shape=batch_shape)\n",
    "\n",
    "# Define the critic\n",
    "def critic(x):\n",
    "    layer = slim.stack(x, slim.fully_connected, [10, 10], scope='shared', activation_fn=leaky_relu)\n",
    "    logits = slim.fully_connected(layer, 1, activation_fn=tf.identity, scope='logits')\n",
    "    return logits\n",
    "\n",
    "# Define interpolated data points for the Gradient Penalty Term\n",
    "eps = tf.random_uniform(critic_shape, minval=0., maxval=1.)\n",
    "X_interp = eps*X_real + (1.-eps)*X_sim\n",
    "weights_interp = eps+(1-eps)*weights_sim\n",
    "\n",
    "# Compute critic for different inputs sharing the same variables of the NN:\n",
    "with tf.variable_scope('critic'):\n",
    "        critic_real = critic(X_real)\n",
    "        tf.get_variable_scope().reuse_variables()\n",
    "        critic_sim = critic(X_sim)\n",
    "        critic_interp = critic(X_interp)\n",
    "\n",
    "# Gradient penalty \n",
    "grad = tf.gradients(critic_interp, [X_interp])[0]\n",
    "gradient_penalty = lambda_gradient * tf.square(tf.norm(grad, 2,axis=1) - 1)\n",
    "\n",
    "# Define losses\n",
    "loss_critic = tf.reduce_sum(weights_sim*critic_sim)/tf.reduce_sum(weights_sim) \\\n",
    "              - tf.reduce_mean(critic_real) \\\n",
    "              + tf.reduce_sum(weights_interp*gradient_penalty)/tf.reduce_sum(weights_interp)\n",
    "wgan_loss = tf.reduce_mean(critic_real) \\\n",
    "            -tf.reduce_sum(weights_sim*critic_sim)/tf.reduce_sum(weights_sim) # Distance between distributions\n",
    "loss_prop = tf.reduce_sum(-tf.multiply(weights_sim*critic_sim, log_prob_prop))/tf.reduce_sum(weights_sim) \\\n",
    "            + lambda_entropy*entropy_proposal\n",
    "\n",
    "# Define trainable variables\n",
    "prop_vars = [var for var in tf.trainable_variables() if var.name.startswith('proposal')]\n",
    "critic_vars = [var for var in tf.trainable_variables() if var.name.startswith('critic')]\n",
    "\n",
    "# Define optimizers\n",
    "critic_optimizer = tf.train.AdamOptimizer(learning_rate=learning_rate, name='critic', beta1=beta1, beta2=beta2)\n",
    "prop_optimizer = tf.train.AdamOptimizer(learning_rate=learning_rate, name='proposal', beta1=beta1, beta2=beta2)\n",
    "\n",
    "# Define training operations\n",
    "train_critic = critic_optimizer.minimize(loss_critic, var_list=critic_vars)\n",
    "train_proposal = prop_optimizer.minimize(loss_prop, var_list=prop_vars)\n",
    "\n",
    "# Define variables to reset for critic optimizer\n",
    "velocity_vars = [critic_optimizer.get_slot(var, 'v') for var in critic_vars]\n",
    "momentum_vars = [critic_optimizer.get_slot(var, 'm') for var in critic_vars]\n",
    "reset_vel_mom = tf.variables_initializer(velocity_vars + momentum_vars)\n",
    "\n",
    "#Reset beta power variables:\n",
    "reset_b1 = tf.assign(critic_optimizer._beta1_power,beta1)\n",
    "reset_b2 = tf.assign(critic_optimizer._beta2_power,beta2)\n",
    "reset_critic = [reset_b1,reset_b2,reset_vel_mom]"
   ]
  },
  {
   "cell_type": "markdown",
   "metadata": {},
   "source": [
    "Run AVO model to find the parameter distribution."
   ]
  },
  {
   "cell_type": "code",
   "execution_count": 6,
   "metadata": {
    "scrolled": true
   },
   "outputs": [
    {
     "name": "stdout",
     "output_type": "stream",
     "text": [
      "Step 0: mu = 1.6094379425048828, sigma = 1.0\n",
      "Step 10: mu = 1.656740665435791, sigma = 0.9054628610610962, em = 1.6750741004943848, max_w = 2.9862451466284696\n",
      "Step 20: mu = 1.7485401630401611, sigma = 0.8226694464683533, em = -2.8569798469543457, max_w = 4.297798310826222\n",
      "Step 30: mu = 1.838783860206604, sigma = 0.7476387023925781, em = 0.6434638500213623, max_w = 55.664865781003314\n",
      "Step 40: mu = 1.916710376739502, sigma = 0.677510142326355, em = 6.1276092529296875, max_w = 4.7131390356462575\n",
      "Step 50: mu = 1.9857814311981201, sigma = 0.6138468384742737, em = -0.17575407028198242, max_w = 5.267156397453944\n",
      "Step 60: mu = 1.997941017150879, sigma = 0.5557844638824463, em = 0.29805660247802734, max_w = 3.2965969341460526\n",
      "Step 70: mu = 2.019317388534546, sigma = 0.5055779814720154, em = 0.20399856567382812, max_w = 4.321704017218193\n",
      "Step 80: mu = 2.0370590686798096, sigma = 0.4663831889629364, em = 0.6758041381835938, max_w = 4.238690688758581\n",
      "Step 90: mu = 2.0821268558502197, sigma = 0.43243634700775146, em = -0.1354656219482422, max_w = 3.4231322369451984\n",
      "Step 100: mu = 2.0620968341827393, sigma = 0.39554858207702637, em = -1.536179542541504, max_w = 2.242561306675531\n",
      "Step 110: mu = 2.0852622985839844, sigma = 0.36031946539878845, em = -1.3977985382080078, max_w = 3.0649814705251655\n",
      "Step 120: mu = 2.080923557281494, sigma = 0.32672446966171265, em = -0.02331066131591797, max_w = 3.489305505349585\n",
      "Step 130: mu = 2.0286898612976074, sigma = 0.29746317863464355, em = -1.9056415557861328, max_w = 3.7681463504185833\n",
      "Step 140: mu = 1.993065357208252, sigma = 0.2715199589729309, em = -0.2832803726196289, max_w = 1.8978163668711603\n",
      "Step 150: mu = 2.0079233646392822, sigma = 0.2539645731449127, em = 0.3015165328979492, max_w = 6.9507590314240035\n",
      "Step 160: mu = 2.0061755180358887, sigma = 0.23470361530780792, em = -0.7421932220458984, max_w = 4.331126517341916\n",
      "Step 170: mu = 2.0183842182159424, sigma = 0.21424070000648499, em = -0.515960693359375, max_w = 2.0434342502116873\n",
      "Step 180: mu = 2.0439703464508057, sigma = 0.2010069489479065, em = -0.7452945709228516, max_w = 6.405504876903363\n",
      "Step 190: mu = 2.049697160720825, sigma = 0.1891552209854126, em = -1.4561538696289062, max_w = 2.0019473804716785\n",
      "Step 200: mu = 2.0307891368865967, sigma = 0.17618021368980408, em = -0.45024871826171875, max_w = 1.7584494476064574\n",
      "Step 210: mu = 2.0510306358337402, sigma = 0.16123133897781372, em = -0.9231586456298828, max_w = 3.5930711243912956\n",
      "Step 220: mu = 2.0287368297576904, sigma = 0.1522541046142578, em = 0.2588176727294922, max_w = 3.0206920773978996\n",
      "Step 230: mu = 2.0777108669281006, sigma = 0.14644983410835266, em = -0.9939746856689453, max_w = 3.517145495744662\n",
      "Step 240: mu = 2.0182130336761475, sigma = 0.13452281057834625, em = -0.04056739807128906, max_w = 3.6466875870374844\n",
      "Step 250: mu = 2.0685818195343018, sigma = 0.12699618935585022, em = -1.2217254638671875, max_w = 2.24620761368306\n",
      "Step 260: mu = 2.102191925048828, sigma = 0.1160307377576828, em = -0.8014545440673828, max_w = 5.570055836781396\n",
      "Step 270: mu = 2.096054792404175, sigma = 0.10745303332805634, em = -0.4736003875732422, max_w = 2.5019958087977208\n",
      "Step 280: mu = 2.100386619567871, sigma = 0.10056568682193756, em = -0.9114818572998047, max_w = 6.224586570145679\n",
      "Step 290: mu = 2.1317684650421143, sigma = 0.09268499910831451, em = -0.5986118316650391, max_w = 11.059021720927086\n",
      "Step 300: mu = 2.15626859664917, sigma = 0.0878436416387558, em = -0.7938385009765625, max_w = 7.167054972921895\n"
     ]
    }
   ],
   "source": [
    "# Save losses\n",
    "wgan_losses = np.zeros(count_steps)\n",
    "\n",
    "config = tf.ConfigProto()\n",
    "config.gpu_options.allow_growth = True\n",
    "with tf.Session(config=config) as sess:\n",
    "    sess.run(tf.global_variables_initializer())\n",
    "    # Output the current values\n",
    "    mu_val, lg_sigma_val = sess.run([mu, lg_sigma])\n",
    "    print('Step 0: mu = {}, sigma = {}'.format(mu_val, np.exp(lg_sigma_val)))\n",
    "\n",
    "    for epoch in range(count_steps):\n",
    "        # Reset critic optimizer parameters at each epoch\n",
    "        sess.run(reset_critic)\n",
    "\n",
    "        # Optimize critic\n",
    "        for idx in range(critic_steps):\n",
    "            x_real = np.random.choice(obs_samples,[batch_size,1])\n",
    "            thetas = sess.run(sample_proposal)\n",
    "            x_sim, w_sim = simulator(thetas)\n",
    "            _, this_loss = sess.run([train_critic, wgan_loss],\n",
    "                                    feed_dict={X_real:x_real,X_sim:x_sim,weights_sim:w_sim})\n",
    "        \n",
    "        # Save loss after optimizing\n",
    "        wgan_losses[epoch] = this_loss\n",
    "\n",
    "        # Update the proposal\n",
    "        thetas = sess.run(sample_proposal)\n",
    "        x_sim, w_sim = simulator(thetas)\n",
    "        _ = sess.run(train_proposal,feed_dict={X_sim:x_sim,weights_sim:w_sim,sample_proposal:thetas})\n",
    "\n",
    "        # Output the current values\n",
    "        if ((epoch+1) % 10)  == 0:\n",
    "            mu_val, lg_sigma_val = sess.run([mu, lg_sigma])\n",
    "            print('Step {}: mu = {}, sigma = {}, em = {}, max_w = {}'.format(epoch+1, mu_val, \n",
    "                                                                 np.exp(lg_sigma_val), this_loss,w_sim.max()))\n",
    "            \n",
    "    # Save final values of distribution\n",
    "    mu_val,lg_sigma_val = sess.run([mu, lg_sigma])"
   ]
  },
  {
   "cell_type": "markdown",
   "metadata": {},
   "source": [
    "Plot result:"
   ]
  },
  {
   "cell_type": "code",
   "execution_count": 7,
   "metadata": {},
   "outputs": [
    {
     "data": {
      "text/plain": [
       "<matplotlib.legend.Legend at 0x7f1790533588>"
      ]
     },
     "execution_count": 7,
     "metadata": {},
     "output_type": "execute_result"
    },
    {
     "data": {
      "image/png": "[encoded data removed]",
      "text/plain": [
       "<matplotlib.figure.Figure at 0x7f1791fc9eb8>"
      ]
     },
     "metadata": {},
     "output_type": "display_data"
    }
   ],
   "source": [
    "x = np.linspace(1,3,400)\n",
    "y = norm.pdf(x,mu_val,np.exp(lg_sigma_val))\n",
    "\n",
    "plt.plot(x,y,label=\"Proposal distribion\")\n",
    "plt.vlines(np.log(7),0,y.max(), label=\"True value\")\n",
    "plt.legend()"
   ]
  },
  {
   "cell_type": "code",
   "execution_count": 8,
   "metadata": {},
   "outputs": [
    {
     "data": {
      "image/png": "[encoded data removed]",
      "text/plain": [
       "<matplotlib.figure.Figure at 0x7f179057b198>"
      ]
     },
     "metadata": {},
     "output_type": "display_data"
    }
   ],
   "source": [
    "plt.plot(wgan_losses);"
   ]
  },
  {
   "cell_type": "code",
   "execution_count": null,
   "metadata": {},
   "outputs": [],
   "source": []
  }
 ],
 "metadata": {
  "kernelspec": {
   "display_name": "Python 3",
   "language": "python",
   "name": "python3"
  },
  "language_info": {
   "codemirror_mode": {
    "name": "ipython",
    "version": 3
   },
   "file_extension": ".py",
   "mimetype": "text/x-python",
   "name": "python",
   "nbconvert_exporter": "python",
   "pygments_lexer": "ipython3",
   "version": "3.6.3"
  }
 },
 "nbformat": 4,
 "nbformat_minor": 2
}
