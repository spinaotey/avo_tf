{
 "cells": [
  {
   "cell_type": "code",
   "execution_count": 1,
   "metadata": {},
   "outputs": [],
   "source": [
    "import os\n",
    "from functools import partial\n",
    "\n",
    "os.environ['TF_CPP_MIN_LOG_LEVEL'] = '3'\n",
    "\n",
    "%matplotlib inline\n",
    "import tensorflow as tf\n",
    "import numpy as np\n",
    "import matplotlib.pyplot as plt\n",
    "\n",
    "from scipy.stats import poisson, norm"
   ]
  },
  {
   "cell_type": "markdown",
   "metadata": {},
   "source": [
    "Define parameters of the model."
   ]
  },
  {
   "cell_type": "code",
   "execution_count": 2,
   "metadata": {},
   "outputs": [],
   "source": [
    "n_observed = 20000\n",
    "n_simulated = 10*n_observed\n",
    "\n",
    "batch_size = 64\n",
    "learning_rate = 0.01\n",
    "lambda_gradient = 0.05# Gradient penalty\n",
    "lambda_entropy = 5. # Entropy penalty\n",
    "obs_poisson_rate = 7. # Poisson rate of the observed data\n",
    "nominal_poisson_rate = 5 # Poisson rate for the nominal data set of simulation\n",
    "prop_initial_mu = np.log(5) # Initial mu of the proposal distribution \n",
    "prop_initial_log_sigma = np.log(.3) # Inintial log(sigma) of the proposal distribution\n",
    "beta1 = 0.5\n",
    "beta2 = 0.5\n",
    "critic_steps = 100\n",
    "count_steps = 300+1\n",
    "\n",
    "#For reproducibility \n",
    "tf.set_random_seed(2210)\n",
    "np.random.seed(2210)"
   ]
  },
  {
   "cell_type": "code",
   "execution_count": 3,
   "metadata": {},
   "outputs": [],
   "source": [
    "def glorot_uniform(fan_in, fan_out, scale=0.1):\n",
    "    s = scale * np.sqrt(6. / (fan_in + fan_out))\n",
    "    return np.random.rand(fan_in, fan_out) * 2 * s - s"
   ]
  },
  {
   "cell_type": "markdown",
   "metadata": {},
   "source": [
    "Generate observed samples and define simulator."
   ]
  },
  {
   "cell_type": "code",
   "execution_count": 4,
   "metadata": {},
   "outputs": [],
   "source": [
    "# Generate observed samples\n",
    "obs_samples = poisson.rvs(obs_poisson_rate,size=n_observed)\n",
    "\n",
    "# Generate simulated nominal samples\n",
    "sim_samples_nominal = poisson.rvs(nominal_poisson_rate,size=[n_simulated,1])\n",
    "pmf_nominal = poisson.pmf(sim_samples_nominal,nominal_poisson_rate) # nominal probability mass of samples\n",
    "\n",
    "# Define simulator/reweighter\n",
    "def simulator(X):\n",
    "    indices = np.random.choice(n_simulated,size=X.shape[0],replace=True)\n",
    "    sim_samples = sim_samples_nominal[indices]\n",
    "    pmf_simulator = poisson.pmf(sim_samples,np.exp(X))\n",
    "    sim_weights = pmf_simulator/pmf_nominal[indices]\n",
    "    return sim_samples, sim_weights"
   ]
  },
  {
   "cell_type": "markdown",
   "metadata": {},
   "source": [
    "Define AVO model."
   ]
  },
  {
   "cell_type": "code",
   "execution_count": 5,
   "metadata": {},
   "outputs": [],
   "source": [
    "batch_shape = (batch_size, 1)\n",
    "critic_shape = (batch_size, 1)\n",
    "\n",
    "# Placeholder for real distribution\n",
    "X_real = tf.placeholder(tf.float32,shape=batch_shape)\n",
    "\n",
    "# Define proposal parameters Psi\n",
    "with tf.variable_scope('proposal'):\n",
    "    mu = tf.get_variable('mu', shape=(), initializer=tf.constant_initializer(prop_initial_mu))\n",
    "    # We use logarithm of sigma since sigma >= 0 in order to stretch it over the real line\n",
    "    lg_sigma = tf.get_variable('lg_sigma', shape=(), initializer=tf.constant_initializer(prop_initial_log_sigma))\n",
    "\n",
    "# Define proposal distribution q\n",
    "prop_distribution = tf.contrib.distributions.Normal(loc=mu, scale=tf.exp(lg_sigma))\n",
    "sample_proposal = tf.stop_gradient(prop_distribution.sample(sample_shape=batch_shape))\n",
    "\n",
    "# Compute the log probability for the parameters \n",
    "log_prob_prop = prop_distribution.log_prob(sample_proposal)\n",
    "#Analytic differential entropy for the proposal distribution\n",
    "entropy_proposal = lg_sigma \n",
    "\n",
    "# Placeholder for simulated distribution and their weights\n",
    "X_sim = tf.placeholder(tf.float32,shape=batch_shape)\n",
    "weights_sim = tf.placeholder(tf.float32,shape=batch_shape)\n",
    "\n",
    "# Define critic variables\n",
    "with tf.name_scope('critic'):\n",
    "    W0 = tf.Variable(glorot_uniform(1,10),dtype=tf.float32,name='W0')\n",
    "    W1 = tf.Variable(glorot_uniform(10,10),dtype=tf.float32,name='W1')\n",
    "    W2 = tf.Variable(glorot_uniform(10,1),dtype=tf.float32,name='W2')\n",
    "    b0 = tf.Variable(np.zeros([1,10]),dtype=tf.float32,name='b0')\n",
    "    b1 = tf.Variable(np.zeros([1,10]),dtype=tf.float32,name='b1')\n",
    "    b2 = tf.Variable(np.zeros([1,1]),dtype=tf.float32,name='b2')\n",
    "\n",
    "# Define the critic\n",
    "def critic(x):\n",
    "    h1 = tf.nn.leaky_relu(tf.matmul(x,W0)+b0,alpha=.1)\n",
    "    h2 = tf.nn.leaky_relu(tf.matmul(h1,W1)+b1,alpha=.1)\n",
    "    out = tf.matmul(h2,W2)+b2\n",
    "    return out\n",
    "\n",
    "# Define interpolated data points for the Gradient Penalty Term\n",
    "eps = tf.random_uniform(critic_shape, minval=0., maxval=1.)\n",
    "X_interp = eps*X_real + (1.-eps)*X_sim\n",
    "\n",
    "# Compute critic for different inputs sharing the same variables of the NN:\n",
    "critic_real = critic(X_real)\n",
    "critic_sim = critic(X_sim)\n",
    "critic_interp = critic(X_interp)\n",
    "\n",
    "# Gradient penalty \n",
    "grad = tf.gradients(critic_interp, [X_interp])[0]\n",
    "gradient_penalty = lambda_gradient * tf.square(tf.norm(grad, 2,axis=1) - 1)\n",
    "\n",
    "# Define losses\n",
    "loss_critic = tf.reduce_sum(weights_sim*critic_sim)/tf.reduce_sum(weights_sim) \\\n",
    "              - tf.reduce_mean(critic_real) \\\n",
    "              + tf.reduce_sum(weights_sim*gradient_penalty)/tf.reduce_sum(weights_sim)\n",
    "wgan_loss = tf.reduce_mean(critic_real) \\\n",
    "            -tf.reduce_sum(weights_sim*critic_sim)/tf.reduce_sum(weights_sim) # Distance between distributions\n",
    "loss_prop = tf.reduce_sum(-tf.multiply(weights_sim*critic_sim, log_prob_prop))/tf.reduce_sum(weights_sim) \\\n",
    "            + lambda_entropy*entropy_proposal\n",
    "\n",
    "# Define trainable variables\n",
    "prop_vars = [var for var in tf.trainable_variables() if var.name.startswith('proposal')]\n",
    "critic_vars = [var for var in tf.trainable_variables() if var.name.startswith('critic')]\n",
    "\n",
    "# Define optimizers\n",
    "critic_optimizer = tf.train.AdamOptimizer(learning_rate=learning_rate, name='critic', beta1=beta1, beta2=beta2)\n",
    "prop_optimizer = tf.train.AdamOptimizer(learning_rate=learning_rate, name='proposal', beta1=beta1, beta2=beta2)\n",
    "\n",
    "# Define training operations\n",
    "train_critic = critic_optimizer.minimize(loss_critic, var_list=critic_vars)\n",
    "train_proposal = prop_optimizer.minimize(loss_prop, var_list=prop_vars)\n",
    "\n",
    "# Define variables to reset for critic optimizer\n",
    "velocity_vars = [critic_optimizer.get_slot(var, 'v') for var in critic_vars]\n",
    "momentum_vars = [critic_optimizer.get_slot(var, 'm') for var in critic_vars]\n",
    "reset_vel_mom = tf.variables_initializer(velocity_vars + momentum_vars)\n",
    "\n",
    "#Reset beta power variables:\n",
    "reset_b1 = tf.assign(critic_optimizer._beta1_power,beta1)\n",
    "reset_b2 = tf.assign(critic_optimizer._beta2_power,beta2)\n",
    "reset_critic = [reset_b1,reset_b2,reset_vel_mom]"
   ]
  },
  {
   "cell_type": "markdown",
   "metadata": {},
   "source": [
    "Run AVO model to find the parameter distribution."
   ]
  },
  {
   "cell_type": "code",
   "execution_count": 6,
   "metadata": {
    "scrolled": true
   },
   "outputs": [
    {
     "name": "stdout",
     "output_type": "stream",
     "text": [
      "Step 0: mu = 1.6094379425048828, sigma = 0.29999998211860657\n",
      "Step 10: mu = 1.5378780364990234, sigma = 0.27149131894111633, em = -1.2669672966003418, max_w = 3.1261896256240496\n",
      "Step 20: mu = 1.4531588554382324, sigma = 0.2509518265724182, em = -2.046297073364258, max_w = 3.1309867883839217\n",
      "Step 30: mu = 1.3696388006210327, sigma = 0.22754792869091034, em = -0.7079886198043823, max_w = 2.8090919853054404\n",
      "Step 40: mu = 1.3725658655166626, sigma = 0.20596230030059814, em = -1.326352596282959, max_w = 2.2352600921149013\n",
      "Step 50: mu = 1.4002339839935303, sigma = 0.18649376928806305, em = -1.834031581878662, max_w = 2.340418061885457\n",
      "Step 60: mu = 1.3683043718338013, sigma = 0.16966909170150757, em = -1.2389631271362305, max_w = 2.836688691351869\n",
      "Step 70: mu = 1.3233963251113892, sigma = 0.15786440670490265, em = -1.9645662307739258, max_w = 4.2225497442268125\n",
      "Step 80: mu = 1.293257474899292, sigma = 0.14331947267055511, em = -1.9508295059204102, max_w = 4.065445289000713\n",
      "Step 90: mu = 1.3317620754241943, sigma = 0.13019731640815735, em = -1.5602502822875977, max_w = 2.7568672158698924\n",
      "Step 100: mu = 1.2991448640823364, sigma = 0.12065690010786057, em = -1.751317024230957, max_w = 3.69424638756616\n",
      "Step 110: mu = 1.2982980012893677, sigma = 0.11185061186552048, em = -1.7204341888427734, max_w = 2.580923791196576\n",
      "Step 120: mu = 1.2494817972183228, sigma = 0.10417498648166656, em = -1.7862796783447266, max_w = 2.6947286442217853\n",
      "Step 130: mu = 1.1973072290420532, sigma = 0.09607844054698944, em = -1.1716938018798828, max_w = 6.86717330914818\n",
      "Step 140: mu = 1.1761142015457153, sigma = 0.08966857194900513, em = -1.2879791259765625, max_w = 3.5564971220437203\n",
      "Step 150: mu = 1.1492863893508911, sigma = 0.08422667533159256, em = -1.9301071166992188, max_w = 5.171290115631164\n",
      "Step 160: mu = 1.2051974534988403, sigma = 0.07954936474561691, em = -1.4228363037109375, max_w = 2.7183304084628\n",
      "Step 170: mu = 1.2236554622650146, sigma = 0.07265910506248474, em = -1.4534721374511719, max_w = 4.141520327893422\n",
      "Step 180: mu = 1.245379090309143, sigma = 0.06791457533836365, em = -1.924551010131836, max_w = 3.942208331184513\n",
      "Step 190: mu = 1.2234454154968262, sigma = 0.0670560821890831, em = -1.7275257110595703, max_w = 6.281410198197413\n",
      "Step 200: mu = 1.2371383905410767, sigma = 0.0650879517197609, em = -1.3694229125976562, max_w = 4.711708813258351\n",
      "Step 210: mu = 1.2551203966140747, sigma = 0.06189989298582077, em = -1.5435409545898438, max_w = 7.650441328555085\n",
      "Step 220: mu = 1.2165966033935547, sigma = 0.058509476482868195, em = -1.8040199279785156, max_w = 4.173447481245407\n",
      "Step 230: mu = 1.1976101398468018, sigma = 0.05395548418164253, em = -1.532501220703125, max_w = 3.9625305659255585\n",
      "Step 240: mu = 1.1390495300292969, sigma = 0.05016658455133438, em = -1.3655967712402344, max_w = 3.596078961071686\n",
      "Step 250: mu = 1.1576770544052124, sigma = 0.04991944134235382, em = -1.4135322570800781, max_w = 6.3258538613617326\n",
      "Step 260: mu = 1.195624828338623, sigma = 0.047084029763936996, em = -1.8954811096191406, max_w = 5.959591826105941\n",
      "Step 270: mu = 1.1647515296936035, sigma = 0.04498222470283508, em = -1.6953315734863281, max_w = 4.496302986494607\n",
      "Step 280: mu = 1.160497784614563, sigma = 0.04357585310935974, em = -1.6975479125976562, max_w = 5.470121159420355\n",
      "Step 290: mu = 1.1412086486816406, sigma = 0.04207999259233475, em = -1.8482780456542969, max_w = 6.7423153967520735\n",
      "Step 300: mu = 1.196030855178833, sigma = 0.040442075580358505, em = -1.3756523132324219, max_w = 5.382987476618373\n"
     ]
    }
   ],
   "source": [
    "# Save losses\n",
    "wgan_losses = np.zeros(count_steps)\n",
    "\n",
    "config = tf.ConfigProto()\n",
    "config.gpu_options.allow_growth = True\n",
    "with tf.Session(config=config) as sess:\n",
    "    sess.run(tf.global_variables_initializer())\n",
    "    # Output the current values\n",
    "    mu_val, lg_sigma_val = sess.run([mu, lg_sigma])\n",
    "    print('Step 0: mu = {}, sigma = {}'.format(mu_val, np.exp(lg_sigma_val)))\n",
    "\n",
    "    for epoch in range(count_steps):\n",
    "        # Reset critic optimizer parameters at each epoch\n",
    "        sess.run(reset_critic)\n",
    "\n",
    "        # Optimize critic\n",
    "        for idx in range(critic_steps):\n",
    "            x_real = np.random.choice(obs_samples,[batch_size,1])\n",
    "            thetas = sess.run(sample_proposal)\n",
    "            x_sim, w_sim = simulator(thetas)\n",
    "            _, this_loss = sess.run([train_critic, wgan_loss],\n",
    "                                    feed_dict={X_real:x_real,X_sim:x_sim,weights_sim:w_sim})\n",
    "        \n",
    "        # Save loss after optimizing\n",
    "        wgan_losses[epoch] = this_loss\n",
    "\n",
    "        # Update the proposal\n",
    "        thetas = sess.run(sample_proposal)\n",
    "        x_sim, w_sim = simulator(thetas)\n",
    "        _ = sess.run(train_proposal,feed_dict={X_sim:x_sim,weights_sim:w_sim,sample_proposal:thetas})\n",
    "\n",
    "        # Output the current values\n",
    "        if ((epoch+1) % 10)  == 0:\n",
    "            mu_val, lg_sigma_val = sess.run([mu, lg_sigma])\n",
    "            print('Step {}: mu = {}, sigma = {}, em = {}, max_w = {}'.format(epoch+1, mu_val, \n",
    "                                                                 np.exp(lg_sigma_val), this_loss,w_sim.max()))\n",
    "            \n",
    "    # Save final values of distribution\n",
    "    mu_val,lg_sigma_val = sess.run([mu, lg_sigma])"
   ]
  },
  {
   "cell_type": "markdown",
   "metadata": {},
   "source": [
    "Plot result:"
   ]
  },
  {
   "cell_type": "code",
   "execution_count": 7,
   "metadata": {},
   "outputs": [
    {
     "data": {
      "text/plain": [
       "<matplotlib.legend.Legend at 0x7fe2007497f0>"
      ]
     },
     "execution_count": 7,
     "metadata": {},
     "output_type": "execute_result"
    },
    {
     "data": {
      "image/png": "[encoded data removed]",
      "text/plain": [
       "<matplotlib.figure.Figure at 0x7fe20be282e8>"
      ]
     },
     "metadata": {},
     "output_type": "display_data"
    }
   ],
   "source": [
    "x = np.linspace(1,3,400)\n",
    "y = norm.pdf(x,mu_val,np.exp(lg_sigma_val))\n",
    "\n",
    "plt.plot(x,y,label=\"Proposal distribion\")\n",
    "plt.vlines(np.log(7),0,y.max(), label=\"True value\")\n",
    "plt.legend()"
   ]
  },
  {
   "cell_type": "code",
   "execution_count": 8,
   "metadata": {},
   "outputs": [
    {
     "data": {
      "image/png": "[encoded data removed]",
      "text/plain": [
       "<matplotlib.figure.Figure at 0x7fe200722e48>"
      ]
     },
     "metadata": {},
     "output_type": "display_data"
    }
   ],
   "source": [
    "plt.plot(wgan_losses);"
   ]
  },
  {
   "cell_type": "code",
   "execution_count": null,
   "metadata": {},
   "outputs": [],
   "source": []
  }
 ],
 "metadata": {
  "kernelspec": {
   "display_name": "Python 3",
   "language": "python",
   "name": "python3"
  },
  "language_info": {
   "codemirror_mode": {
    "name": "ipython",
    "version": 3
   },
   "file_extension": ".py",
   "mimetype": "text/x-python",
   "name": "python",
   "nbconvert_exporter": "python",
   "pygments_lexer": "ipython3",
   "version": "3.6.3"
  }
 },
 "nbformat": 4,
 "nbformat_minor": 2
}
